{
 "cells": [
  {
   "cell_type": "markdown",
   "id": "509e179b-433c-4c69-87a8-341db54d7d57",
   "metadata": {},
   "source": [
    "# EDA and Analysis"
   ]
  },
  {
   "cell_type": "code",
   "execution_count": 91,
   "id": "33e9a180-c189-4c02-96ac-7c7c7e93194d",
   "metadata": {},
   "outputs": [],
   "source": [
    "import pandas as pd\n",
    "import seaborn as sns\n",
    "import matplotlib.pyplot as plt"
   ]
  },
  {
   "cell_type": "code",
   "execution_count": 20,
   "id": "df2576d4-b1c7-4789-ab34-21dbfc8ad055",
   "metadata": {},
   "outputs": [],
   "source": [
    "# Load the uploaded files\n",
    "acs_income_df = pd.read_csv(\"ACSST1Y2023.S1902-Data.csv\", skiprows=1)\n",
    "income_by_place_df = pd.read_csv(\"ACSST1Y2023.S1903-Data.csv\", skiprows=1)"
   ]
  },
  {
   "cell_type": "markdown",
   "id": "af36fcf5-e9dc-41d7-a777-b7993054b534",
   "metadata": {},
   "source": [
    "## Reviewing ACSST1Y2023.S1902"
   ]
  },
  {
   "cell_type": "code",
   "execution_count": 31,
   "id": "07d15f96-fcfe-4a6d-9049-a53f38afa163",
   "metadata": {},
   "outputs": [
    {
     "data": {
      "text/html": [
       "<div>\n",
       "<style scoped>\n",
       "    .dataframe tbody tr th:only-of-type {\n",
       "        vertical-align: middle;\n",
       "    }\n",
       "\n",
       "    .dataframe tbody tr th {\n",
       "        vertical-align: top;\n",
       "    }\n",
       "\n",
       "    .dataframe thead th {\n",
       "        text-align: right;\n",
       "    }\n",
       "</style>\n",
       "<table border=\"1\" class=\"dataframe\">\n",
       "  <thead>\n",
       "    <tr style=\"text-align: right;\">\n",
       "      <th></th>\n",
       "      <th>0</th>\n",
       "      <th>1</th>\n",
       "      <th>2</th>\n",
       "    </tr>\n",
       "  </thead>\n",
       "  <tbody>\n",
       "    <tr>\n",
       "      <th>Geography</th>\n",
       "      <td>0400000US26</td>\n",
       "      <td>0400000US39</td>\n",
       "      <td>0400000US42</td>\n",
       "    </tr>\n",
       "    <tr>\n",
       "      <th>Geographic Area Name</th>\n",
       "      <td>Michigan</td>\n",
       "      <td>Ohio</td>\n",
       "      <td>Pennsylvania</td>\n",
       "    </tr>\n",
       "    <tr>\n",
       "      <th>Estimate!!Number!!HOUSEHOLD INCOME!!All households</th>\n",
       "      <td>4107809</td>\n",
       "      <td>4917309</td>\n",
       "      <td>5324209</td>\n",
       "    </tr>\n",
       "    <tr>\n",
       "      <th>Margin of Error!!Number!!HOUSEHOLD INCOME!!All households</th>\n",
       "      <td>11889</td>\n",
       "      <td>10812</td>\n",
       "      <td>13443</td>\n",
       "    </tr>\n",
       "    <tr>\n",
       "      <th>Estimate!!Number!!HOUSEHOLD INCOME!!All households!!With earnings</th>\n",
       "      <td>3050710</td>\n",
       "      <td>3721506</td>\n",
       "      <td>4003231</td>\n",
       "    </tr>\n",
       "    <tr>\n",
       "      <th>...</th>\n",
       "      <td>...</td>\n",
       "      <td>...</td>\n",
       "      <td>...</td>\n",
       "    </tr>\n",
       "    <tr>\n",
       "      <th>Estimate!!Mean income (dollars)!!PER CAPITA INCOME BY RACE AND HISPANIC OR LATINO ORIGIN!!Total population!!Hispanic or Latino origin (of any race)</th>\n",
       "      <td>26886</td>\n",
       "      <td>25712</td>\n",
       "      <td>24614</td>\n",
       "    </tr>\n",
       "    <tr>\n",
       "      <th>Margin of Error!!Mean income (dollars)!!PER CAPITA INCOME BY RACE AND HISPANIC OR LATINO ORIGIN!!Total population!!Hispanic or Latino origin (of any race)</th>\n",
       "      <td>1167</td>\n",
       "      <td>1035</td>\n",
       "      <td>749</td>\n",
       "    </tr>\n",
       "    <tr>\n",
       "      <th>Estimate!!Mean income (dollars)!!PER CAPITA INCOME BY RACE AND HISPANIC OR LATINO ORIGIN!!Total population!!White alone, not Hispanic or Latino</th>\n",
       "      <td>42549</td>\n",
       "      <td>42694</td>\n",
       "      <td>47142</td>\n",
       "    </tr>\n",
       "    <tr>\n",
       "      <th>Margin of Error!!Mean income (dollars)!!PER CAPITA INCOME BY RACE AND HISPANIC OR LATINO ORIGIN!!Total population!!White alone, not Hispanic or Latino</th>\n",
       "      <td>372</td>\n",
       "      <td>347</td>\n",
       "      <td>407</td>\n",
       "    </tr>\n",
       "    <tr>\n",
       "      <th>Unnamed: 170</th>\n",
       "      <td>NaN</td>\n",
       "      <td>NaN</td>\n",
       "      <td>NaN</td>\n",
       "    </tr>\n",
       "  </tbody>\n",
       "</table>\n",
       "<p>171 rows × 3 columns</p>\n",
       "</div>"
      ],
      "text/plain": [
       "                                                              0            1  \\\n",
       "Geography                                           0400000US26  0400000US39   \n",
       "Geographic Area Name                                   Michigan         Ohio   \n",
       "Estimate!!Number!!HOUSEHOLD INCOME!!All households      4107809      4917309   \n",
       "Margin of Error!!Number!!HOUSEHOLD INCOME!!All ...        11889        10812   \n",
       "Estimate!!Number!!HOUSEHOLD INCOME!!All househo...      3050710      3721506   \n",
       "...                                                         ...          ...   \n",
       "Estimate!!Mean income (dollars)!!PER CAPITA INC...        26886        25712   \n",
       "Margin of Error!!Mean income (dollars)!!PER CAP...         1167         1035   \n",
       "Estimate!!Mean income (dollars)!!PER CAPITA INC...        42549        42694   \n",
       "Margin of Error!!Mean income (dollars)!!PER CAP...          372          347   \n",
       "Unnamed: 170                                                NaN          NaN   \n",
       "\n",
       "                                                               2  \n",
       "Geography                                            0400000US42  \n",
       "Geographic Area Name                                Pennsylvania  \n",
       "Estimate!!Number!!HOUSEHOLD INCOME!!All households       5324209  \n",
       "Margin of Error!!Number!!HOUSEHOLD INCOME!!All ...         13443  \n",
       "Estimate!!Number!!HOUSEHOLD INCOME!!All househo...       4003231  \n",
       "...                                                          ...  \n",
       "Estimate!!Mean income (dollars)!!PER CAPITA INC...         24614  \n",
       "Margin of Error!!Mean income (dollars)!!PER CAP...           749  \n",
       "Estimate!!Mean income (dollars)!!PER CAPITA INC...         47142  \n",
       "Margin of Error!!Mean income (dollars)!!PER CAP...           407  \n",
       "Unnamed: 170                                                 NaN  \n",
       "\n",
       "[171 rows x 3 columns]"
      ]
     },
     "execution_count": 31,
     "metadata": {},
     "output_type": "execute_result"
    }
   ],
   "source": [
    "acs_income_df.head(3).T"
   ]
  },
  {
   "cell_type": "code",
   "execution_count": 26,
   "id": "429eae7e-bae0-4b5a-a1da-496990e833d7",
   "metadata": {},
   "outputs": [
    {
     "data": {
      "text/plain": [
       "['Geography',\n",
       " 'Geographic Area Name',\n",
       " 'Estimate!!Number!!HOUSEHOLD INCOME!!All households',\n",
       " 'Margin of Error!!Number!!HOUSEHOLD INCOME!!All households',\n",
       " 'Estimate!!Number!!HOUSEHOLD INCOME!!All households!!With earnings',\n",
       " 'Margin of Error!!Number!!HOUSEHOLD INCOME!!All households!!With earnings',\n",
       " 'Estimate!!Number!!HOUSEHOLD INCOME!!All households!!With earnings!!With wages or salary income',\n",
       " 'Margin of Error!!Number!!HOUSEHOLD INCOME!!All households!!With earnings!!With wages or salary income',\n",
       " 'Estimate!!Number!!HOUSEHOLD INCOME!!All households!!With earnings!!With self-employment income',\n",
       " 'Margin of Error!!Number!!HOUSEHOLD INCOME!!All households!!With earnings!!With self-employment income',\n",
       " 'Estimate!!Number!!HOUSEHOLD INCOME!!All households!!With interest, dividends, or net rental income',\n",
       " 'Margin of Error!!Number!!HOUSEHOLD INCOME!!All households!!With interest, dividends, or net rental income',\n",
       " 'Estimate!!Number!!HOUSEHOLD INCOME!!All households!!With Social Security income',\n",
       " 'Margin of Error!!Number!!HOUSEHOLD INCOME!!All households!!With Social Security income',\n",
       " 'Estimate!!Number!!HOUSEHOLD INCOME!!All households!!With Supplemental Security Income (SSI)',\n",
       " 'Margin of Error!!Number!!HOUSEHOLD INCOME!!All households!!With Supplemental Security Income (SSI)',\n",
       " 'Estimate!!Number!!HOUSEHOLD INCOME!!All households!!With cash public assistance income or Food Stamps/SNAP',\n",
       " 'Margin of Error!!Number!!HOUSEHOLD INCOME!!All households!!With cash public assistance income or Food Stamps/SNAP',\n",
       " 'Estimate!!Number!!HOUSEHOLD INCOME!!All households!!With cash public assistance income or Food Stamps/SNAP!!With cash public assistance',\n",
       " 'Margin of Error!!Number!!HOUSEHOLD INCOME!!All households!!With cash public assistance income or Food Stamps/SNAP!!With cash public assistance',\n",
       " 'Estimate!!Number!!HOUSEHOLD INCOME!!All households!!With retirement income',\n",
       " 'Margin of Error!!Number!!HOUSEHOLD INCOME!!All households!!With retirement income',\n",
       " 'Estimate!!Number!!HOUSEHOLD INCOME!!All households!!With other types of income',\n",
       " 'Margin of Error!!Number!!HOUSEHOLD INCOME!!All households!!With other types of income',\n",
       " 'Estimate!!Number!!FAMILY INCOME BY NUMBER OF WORKERS IN FAMILY!!All families',\n",
       " 'Margin of Error!!Number!!FAMILY INCOME BY NUMBER OF WORKERS IN FAMILY!!All families',\n",
       " 'Estimate!!Number!!FAMILY INCOME BY NUMBER OF WORKERS IN FAMILY!!All families!!No workers',\n",
       " 'Margin of Error!!Number!!FAMILY INCOME BY NUMBER OF WORKERS IN FAMILY!!All families!!No workers',\n",
       " 'Estimate!!Number!!FAMILY INCOME BY NUMBER OF WORKERS IN FAMILY!!All families!!1 worker',\n",
       " 'Margin of Error!!Number!!FAMILY INCOME BY NUMBER OF WORKERS IN FAMILY!!All families!!1 worker',\n",
       " 'Estimate!!Number!!FAMILY INCOME BY NUMBER OF WORKERS IN FAMILY!!All families!!2 workers, both spouses worked',\n",
       " 'Margin of Error!!Number!!FAMILY INCOME BY NUMBER OF WORKERS IN FAMILY!!All families!!2 workers, both spouses worked',\n",
       " 'Estimate!!Number!!FAMILY INCOME BY NUMBER OF WORKERS IN FAMILY!!All families!!2 workers, other',\n",
       " 'Margin of Error!!Number!!FAMILY INCOME BY NUMBER OF WORKERS IN FAMILY!!All families!!2 workers, other',\n",
       " 'Estimate!!Number!!FAMILY INCOME BY NUMBER OF WORKERS IN FAMILY!!All families!!3 or more workers, both spouses worked',\n",
       " 'Margin of Error!!Number!!FAMILY INCOME BY NUMBER OF WORKERS IN FAMILY!!All families!!3 or more workers, both spouses worked',\n",
       " 'Estimate!!Number!!FAMILY INCOME BY NUMBER OF WORKERS IN FAMILY!!All families!!3 or more workers, other',\n",
       " 'Margin of Error!!Number!!FAMILY INCOME BY NUMBER OF WORKERS IN FAMILY!!All families!!3 or more workers, other',\n",
       " 'Estimate!!Number!!PER CAPITA INCOME BY RACE AND HISPANIC OR LATINO ORIGIN!!Total population',\n",
       " 'Margin of Error!!Number!!PER CAPITA INCOME BY RACE AND HISPANIC OR LATINO ORIGIN!!Total population',\n",
       " 'Estimate!!Number!!PER CAPITA INCOME BY RACE AND HISPANIC OR LATINO ORIGIN!!Total population!!One race--!!White',\n",
       " 'Margin of Error!!Number!!PER CAPITA INCOME BY RACE AND HISPANIC OR LATINO ORIGIN!!Total population!!One race--!!White',\n",
       " 'Estimate!!Number!!PER CAPITA INCOME BY RACE AND HISPANIC OR LATINO ORIGIN!!Total population!!One race--!!Black or African American',\n",
       " 'Margin of Error!!Number!!PER CAPITA INCOME BY RACE AND HISPANIC OR LATINO ORIGIN!!Total population!!One race--!!Black or African American',\n",
       " 'Estimate!!Number!!PER CAPITA INCOME BY RACE AND HISPANIC OR LATINO ORIGIN!!Total population!!One race--!!American Indian and Alaska Native',\n",
       " 'Margin of Error!!Number!!PER CAPITA INCOME BY RACE AND HISPANIC OR LATINO ORIGIN!!Total population!!One race--!!American Indian and Alaska Native',\n",
       " 'Estimate!!Number!!PER CAPITA INCOME BY RACE AND HISPANIC OR LATINO ORIGIN!!Total population!!One race--!!Asian',\n",
       " 'Margin of Error!!Number!!PER CAPITA INCOME BY RACE AND HISPANIC OR LATINO ORIGIN!!Total population!!One race--!!Asian',\n",
       " 'Estimate!!Number!!PER CAPITA INCOME BY RACE AND HISPANIC OR LATINO ORIGIN!!Total population!!One race--!!Native Hawaiian and Other Pacific Islander',\n",
       " 'Margin of Error!!Number!!PER CAPITA INCOME BY RACE AND HISPANIC OR LATINO ORIGIN!!Total population!!One race--!!Native Hawaiian and Other Pacific Islander',\n",
       " 'Estimate!!Number!!PER CAPITA INCOME BY RACE AND HISPANIC OR LATINO ORIGIN!!Total population!!One race--!!Some other race',\n",
       " 'Margin of Error!!Number!!PER CAPITA INCOME BY RACE AND HISPANIC OR LATINO ORIGIN!!Total population!!One race--!!Some other race',\n",
       " 'Estimate!!Number!!PER CAPITA INCOME BY RACE AND HISPANIC OR LATINO ORIGIN!!Total population!!Two or more races',\n",
       " 'Margin of Error!!Number!!PER CAPITA INCOME BY RACE AND HISPANIC OR LATINO ORIGIN!!Total population!!Two or more races',\n",
       " 'Estimate!!Number!!PER CAPITA INCOME BY RACE AND HISPANIC OR LATINO ORIGIN!!Total population!!Hispanic or Latino origin (of any race)',\n",
       " 'Margin of Error!!Number!!PER CAPITA INCOME BY RACE AND HISPANIC OR LATINO ORIGIN!!Total population!!Hispanic or Latino origin (of any race)',\n",
       " 'Estimate!!Number!!PER CAPITA INCOME BY RACE AND HISPANIC OR LATINO ORIGIN!!Total population!!White alone, not Hispanic or Latino',\n",
       " 'Margin of Error!!Number!!PER CAPITA INCOME BY RACE AND HISPANIC OR LATINO ORIGIN!!Total population!!White alone, not Hispanic or Latino',\n",
       " 'Estimate!!Percent Distribution!!HOUSEHOLD INCOME!!All households',\n",
       " 'Margin of Error!!Percent Distribution!!HOUSEHOLD INCOME!!All households',\n",
       " 'Estimate!!Percent Distribution!!HOUSEHOLD INCOME!!All households!!With earnings',\n",
       " 'Margin of Error!!Percent Distribution!!HOUSEHOLD INCOME!!All households!!With earnings',\n",
       " 'Estimate!!Percent Distribution!!HOUSEHOLD INCOME!!All households!!With earnings!!With wages or salary income',\n",
       " 'Margin of Error!!Percent Distribution!!HOUSEHOLD INCOME!!All households!!With earnings!!With wages or salary income',\n",
       " 'Estimate!!Percent Distribution!!HOUSEHOLD INCOME!!All households!!With earnings!!With self-employment income',\n",
       " 'Margin of Error!!Percent Distribution!!HOUSEHOLD INCOME!!All households!!With earnings!!With self-employment income',\n",
       " 'Estimate!!Percent Distribution!!HOUSEHOLD INCOME!!All households!!With interest, dividends, or net rental income',\n",
       " 'Margin of Error!!Percent Distribution!!HOUSEHOLD INCOME!!All households!!With interest, dividends, or net rental income',\n",
       " 'Estimate!!Percent Distribution!!HOUSEHOLD INCOME!!All households!!With Social Security income',\n",
       " 'Margin of Error!!Percent Distribution!!HOUSEHOLD INCOME!!All households!!With Social Security income',\n",
       " 'Estimate!!Percent Distribution!!HOUSEHOLD INCOME!!All households!!With Supplemental Security Income (SSI)',\n",
       " 'Margin of Error!!Percent Distribution!!HOUSEHOLD INCOME!!All households!!With Supplemental Security Income (SSI)',\n",
       " 'Estimate!!Percent Distribution!!HOUSEHOLD INCOME!!All households!!With cash public assistance income or Food Stamps/SNAP',\n",
       " 'Margin of Error!!Percent Distribution!!HOUSEHOLD INCOME!!All households!!With cash public assistance income or Food Stamps/SNAP',\n",
       " 'Estimate!!Percent Distribution!!HOUSEHOLD INCOME!!All households!!With cash public assistance income or Food Stamps/SNAP!!With cash public assistance',\n",
       " 'Margin of Error!!Percent Distribution!!HOUSEHOLD INCOME!!All households!!With cash public assistance income or Food Stamps/SNAP!!With cash public assistance',\n",
       " 'Estimate!!Percent Distribution!!HOUSEHOLD INCOME!!All households!!With retirement income',\n",
       " 'Margin of Error!!Percent Distribution!!HOUSEHOLD INCOME!!All households!!With retirement income',\n",
       " 'Estimate!!Percent Distribution!!HOUSEHOLD INCOME!!All households!!With other types of income',\n",
       " 'Margin of Error!!Percent Distribution!!HOUSEHOLD INCOME!!All households!!With other types of income',\n",
       " 'Estimate!!Percent Distribution!!FAMILY INCOME BY NUMBER OF WORKERS IN FAMILY!!All families',\n",
       " 'Margin of Error!!Percent Distribution!!FAMILY INCOME BY NUMBER OF WORKERS IN FAMILY!!All families',\n",
       " 'Estimate!!Percent Distribution!!FAMILY INCOME BY NUMBER OF WORKERS IN FAMILY!!All families!!No workers',\n",
       " 'Margin of Error!!Percent Distribution!!FAMILY INCOME BY NUMBER OF WORKERS IN FAMILY!!All families!!No workers',\n",
       " 'Estimate!!Percent Distribution!!FAMILY INCOME BY NUMBER OF WORKERS IN FAMILY!!All families!!1 worker',\n",
       " 'Margin of Error!!Percent Distribution!!FAMILY INCOME BY NUMBER OF WORKERS IN FAMILY!!All families!!1 worker',\n",
       " 'Estimate!!Percent Distribution!!FAMILY INCOME BY NUMBER OF WORKERS IN FAMILY!!All families!!2 workers, both spouses worked',\n",
       " 'Margin of Error!!Percent Distribution!!FAMILY INCOME BY NUMBER OF WORKERS IN FAMILY!!All families!!2 workers, both spouses worked',\n",
       " 'Estimate!!Percent Distribution!!FAMILY INCOME BY NUMBER OF WORKERS IN FAMILY!!All families!!2 workers, other',\n",
       " 'Margin of Error!!Percent Distribution!!FAMILY INCOME BY NUMBER OF WORKERS IN FAMILY!!All families!!2 workers, other',\n",
       " 'Estimate!!Percent Distribution!!FAMILY INCOME BY NUMBER OF WORKERS IN FAMILY!!All families!!3 or more workers, both spouses worked',\n",
       " 'Margin of Error!!Percent Distribution!!FAMILY INCOME BY NUMBER OF WORKERS IN FAMILY!!All families!!3 or more workers, both spouses worked',\n",
       " 'Estimate!!Percent Distribution!!FAMILY INCOME BY NUMBER OF WORKERS IN FAMILY!!All families!!3 or more workers, other',\n",
       " 'Margin of Error!!Percent Distribution!!FAMILY INCOME BY NUMBER OF WORKERS IN FAMILY!!All families!!3 or more workers, other',\n",
       " 'Estimate!!Percent Distribution!!PER CAPITA INCOME BY RACE AND HISPANIC OR LATINO ORIGIN!!Total population',\n",
       " 'Margin of Error!!Percent Distribution!!PER CAPITA INCOME BY RACE AND HISPANIC OR LATINO ORIGIN!!Total population',\n",
       " 'Estimate!!Percent Distribution!!PER CAPITA INCOME BY RACE AND HISPANIC OR LATINO ORIGIN!!Total population!!One race--!!White',\n",
       " 'Margin of Error!!Percent Distribution!!PER CAPITA INCOME BY RACE AND HISPANIC OR LATINO ORIGIN!!Total population!!One race--!!White',\n",
       " 'Estimate!!Percent Distribution!!PER CAPITA INCOME BY RACE AND HISPANIC OR LATINO ORIGIN!!Total population!!One race--!!Black or African American',\n",
       " 'Margin of Error!!Percent Distribution!!PER CAPITA INCOME BY RACE AND HISPANIC OR LATINO ORIGIN!!Total population!!One race--!!Black or African American',\n",
       " 'Estimate!!Percent Distribution!!PER CAPITA INCOME BY RACE AND HISPANIC OR LATINO ORIGIN!!Total population!!One race--!!American Indian and Alaska Native',\n",
       " 'Margin of Error!!Percent Distribution!!PER CAPITA INCOME BY RACE AND HISPANIC OR LATINO ORIGIN!!Total population!!One race--!!American Indian and Alaska Native',\n",
       " 'Estimate!!Percent Distribution!!PER CAPITA INCOME BY RACE AND HISPANIC OR LATINO ORIGIN!!Total population!!One race--!!Asian',\n",
       " 'Margin of Error!!Percent Distribution!!PER CAPITA INCOME BY RACE AND HISPANIC OR LATINO ORIGIN!!Total population!!One race--!!Asian',\n",
       " 'Estimate!!Percent Distribution!!PER CAPITA INCOME BY RACE AND HISPANIC OR LATINO ORIGIN!!Total population!!One race--!!Native Hawaiian and Other Pacific Islander',\n",
       " 'Margin of Error!!Percent Distribution!!PER CAPITA INCOME BY RACE AND HISPANIC OR LATINO ORIGIN!!Total population!!One race--!!Native Hawaiian and Other Pacific Islander',\n",
       " 'Estimate!!Percent Distribution!!PER CAPITA INCOME BY RACE AND HISPANIC OR LATINO ORIGIN!!Total population!!One race--!!Some other race',\n",
       " 'Margin of Error!!Percent Distribution!!PER CAPITA INCOME BY RACE AND HISPANIC OR LATINO ORIGIN!!Total population!!One race--!!Some other race',\n",
       " 'Estimate!!Percent Distribution!!PER CAPITA INCOME BY RACE AND HISPANIC OR LATINO ORIGIN!!Total population!!Two or more races',\n",
       " 'Margin of Error!!Percent Distribution!!PER CAPITA INCOME BY RACE AND HISPANIC OR LATINO ORIGIN!!Total population!!Two or more races',\n",
       " 'Estimate!!Percent Distribution!!PER CAPITA INCOME BY RACE AND HISPANIC OR LATINO ORIGIN!!Total population!!Hispanic or Latino origin (of any race)',\n",
       " 'Margin of Error!!Percent Distribution!!PER CAPITA INCOME BY RACE AND HISPANIC OR LATINO ORIGIN!!Total population!!Hispanic or Latino origin (of any race)',\n",
       " 'Estimate!!Percent Distribution!!PER CAPITA INCOME BY RACE AND HISPANIC OR LATINO ORIGIN!!Total population!!White alone, not Hispanic or Latino',\n",
       " 'Margin of Error!!Percent Distribution!!PER CAPITA INCOME BY RACE AND HISPANIC OR LATINO ORIGIN!!Total population!!White alone, not Hispanic or Latino',\n",
       " 'Estimate!!Mean income (dollars)!!HOUSEHOLD INCOME!!All households',\n",
       " 'Margin of Error!!Mean income (dollars)!!HOUSEHOLD INCOME!!All households',\n",
       " 'Estimate!!Mean income (dollars)!!HOUSEHOLD INCOME!!All households!!With earnings',\n",
       " 'Margin of Error!!Mean income (dollars)!!HOUSEHOLD INCOME!!All households!!With earnings',\n",
       " 'Estimate!!Mean income (dollars)!!HOUSEHOLD INCOME!!All households!!With earnings!!With wages or salary income',\n",
       " 'Margin of Error!!Mean income (dollars)!!HOUSEHOLD INCOME!!All households!!With earnings!!With wages or salary income',\n",
       " 'Estimate!!Mean income (dollars)!!HOUSEHOLD INCOME!!All households!!With earnings!!With self-employment income',\n",
       " 'Margin of Error!!Mean income (dollars)!!HOUSEHOLD INCOME!!All households!!With earnings!!With self-employment income',\n",
       " 'Estimate!!Mean income (dollars)!!HOUSEHOLD INCOME!!All households!!With interest, dividends, or net rental income',\n",
       " 'Margin of Error!!Mean income (dollars)!!HOUSEHOLD INCOME!!All households!!With interest, dividends, or net rental income',\n",
       " 'Estimate!!Mean income (dollars)!!HOUSEHOLD INCOME!!All households!!With Social Security income',\n",
       " 'Margin of Error!!Mean income (dollars)!!HOUSEHOLD INCOME!!All households!!With Social Security income',\n",
       " 'Estimate!!Mean income (dollars)!!HOUSEHOLD INCOME!!All households!!With Supplemental Security Income (SSI)',\n",
       " 'Margin of Error!!Mean income (dollars)!!HOUSEHOLD INCOME!!All households!!With Supplemental Security Income (SSI)',\n",
       " 'Estimate!!Mean income (dollars)!!HOUSEHOLD INCOME!!All households!!With cash public assistance income or Food Stamps/SNAP',\n",
       " 'Margin of Error!!Mean income (dollars)!!HOUSEHOLD INCOME!!All households!!With cash public assistance income or Food Stamps/SNAP',\n",
       " 'Estimate!!Mean income (dollars)!!HOUSEHOLD INCOME!!All households!!With cash public assistance income or Food Stamps/SNAP!!With cash public assistance',\n",
       " 'Margin of Error!!Mean income (dollars)!!HOUSEHOLD INCOME!!All households!!With cash public assistance income or Food Stamps/SNAP!!With cash public assistance',\n",
       " 'Estimate!!Mean income (dollars)!!HOUSEHOLD INCOME!!All households!!With retirement income',\n",
       " 'Margin of Error!!Mean income (dollars)!!HOUSEHOLD INCOME!!All households!!With retirement income',\n",
       " 'Estimate!!Mean income (dollars)!!HOUSEHOLD INCOME!!All households!!With other types of income',\n",
       " 'Margin of Error!!Mean income (dollars)!!HOUSEHOLD INCOME!!All households!!With other types of income',\n",
       " 'Estimate!!Mean income (dollars)!!FAMILY INCOME BY NUMBER OF WORKERS IN FAMILY!!All families',\n",
       " 'Margin of Error!!Mean income (dollars)!!FAMILY INCOME BY NUMBER OF WORKERS IN FAMILY!!All families',\n",
       " 'Estimate!!Mean income (dollars)!!FAMILY INCOME BY NUMBER OF WORKERS IN FAMILY!!All families!!No workers',\n",
       " 'Margin of Error!!Mean income (dollars)!!FAMILY INCOME BY NUMBER OF WORKERS IN FAMILY!!All families!!No workers',\n",
       " 'Estimate!!Mean income (dollars)!!FAMILY INCOME BY NUMBER OF WORKERS IN FAMILY!!All families!!1 worker',\n",
       " 'Margin of Error!!Mean income (dollars)!!FAMILY INCOME BY NUMBER OF WORKERS IN FAMILY!!All families!!1 worker',\n",
       " 'Estimate!!Mean income (dollars)!!FAMILY INCOME BY NUMBER OF WORKERS IN FAMILY!!All families!!2 workers, both spouses worked',\n",
       " 'Margin of Error!!Mean income (dollars)!!FAMILY INCOME BY NUMBER OF WORKERS IN FAMILY!!All families!!2 workers, both spouses worked',\n",
       " 'Estimate!!Mean income (dollars)!!FAMILY INCOME BY NUMBER OF WORKERS IN FAMILY!!All families!!2 workers, other',\n",
       " 'Margin of Error!!Mean income (dollars)!!FAMILY INCOME BY NUMBER OF WORKERS IN FAMILY!!All families!!2 workers, other',\n",
       " 'Estimate!!Mean income (dollars)!!FAMILY INCOME BY NUMBER OF WORKERS IN FAMILY!!All families!!3 or more workers, both spouses worked',\n",
       " 'Margin of Error!!Mean income (dollars)!!FAMILY INCOME BY NUMBER OF WORKERS IN FAMILY!!All families!!3 or more workers, both spouses worked',\n",
       " 'Estimate!!Mean income (dollars)!!FAMILY INCOME BY NUMBER OF WORKERS IN FAMILY!!All families!!3 or more workers, other',\n",
       " 'Margin of Error!!Mean income (dollars)!!FAMILY INCOME BY NUMBER OF WORKERS IN FAMILY!!All families!!3 or more workers, other',\n",
       " 'Estimate!!Mean income (dollars)!!PER CAPITA INCOME BY RACE AND HISPANIC OR LATINO ORIGIN!!Total population',\n",
       " 'Margin of Error!!Mean income (dollars)!!PER CAPITA INCOME BY RACE AND HISPANIC OR LATINO ORIGIN!!Total population',\n",
       " 'Estimate!!Mean income (dollars)!!PER CAPITA INCOME BY RACE AND HISPANIC OR LATINO ORIGIN!!Total population!!One race--!!White',\n",
       " 'Margin of Error!!Mean income (dollars)!!PER CAPITA INCOME BY RACE AND HISPANIC OR LATINO ORIGIN!!Total population!!One race--!!White',\n",
       " 'Estimate!!Mean income (dollars)!!PER CAPITA INCOME BY RACE AND HISPANIC OR LATINO ORIGIN!!Total population!!One race--!!Black or African American',\n",
       " 'Margin of Error!!Mean income (dollars)!!PER CAPITA INCOME BY RACE AND HISPANIC OR LATINO ORIGIN!!Total population!!One race--!!Black or African American',\n",
       " 'Estimate!!Mean income (dollars)!!PER CAPITA INCOME BY RACE AND HISPANIC OR LATINO ORIGIN!!Total population!!One race--!!American Indian and Alaska Native',\n",
       " 'Margin of Error!!Mean income (dollars)!!PER CAPITA INCOME BY RACE AND HISPANIC OR LATINO ORIGIN!!Total population!!One race--!!American Indian and Alaska Native',\n",
       " 'Estimate!!Mean income (dollars)!!PER CAPITA INCOME BY RACE AND HISPANIC OR LATINO ORIGIN!!Total population!!One race--!!Asian',\n",
       " 'Margin of Error!!Mean income (dollars)!!PER CAPITA INCOME BY RACE AND HISPANIC OR LATINO ORIGIN!!Total population!!One race--!!Asian',\n",
       " 'Estimate!!Mean income (dollars)!!PER CAPITA INCOME BY RACE AND HISPANIC OR LATINO ORIGIN!!Total population!!One race--!!Native Hawaiian and Other Pacific Islander',\n",
       " 'Margin of Error!!Mean income (dollars)!!PER CAPITA INCOME BY RACE AND HISPANIC OR LATINO ORIGIN!!Total population!!One race--!!Native Hawaiian and Other Pacific Islander',\n",
       " 'Estimate!!Mean income (dollars)!!PER CAPITA INCOME BY RACE AND HISPANIC OR LATINO ORIGIN!!Total population!!One race--!!Some other race',\n",
       " 'Margin of Error!!Mean income (dollars)!!PER CAPITA INCOME BY RACE AND HISPANIC OR LATINO ORIGIN!!Total population!!One race--!!Some other race',\n",
       " 'Estimate!!Mean income (dollars)!!PER CAPITA INCOME BY RACE AND HISPANIC OR LATINO ORIGIN!!Total population!!Two or more races',\n",
       " 'Margin of Error!!Mean income (dollars)!!PER CAPITA INCOME BY RACE AND HISPANIC OR LATINO ORIGIN!!Total population!!Two or more races',\n",
       " 'Estimate!!Mean income (dollars)!!PER CAPITA INCOME BY RACE AND HISPANIC OR LATINO ORIGIN!!Total population!!Hispanic or Latino origin (of any race)',\n",
       " 'Margin of Error!!Mean income (dollars)!!PER CAPITA INCOME BY RACE AND HISPANIC OR LATINO ORIGIN!!Total population!!Hispanic or Latino origin (of any race)',\n",
       " 'Estimate!!Mean income (dollars)!!PER CAPITA INCOME BY RACE AND HISPANIC OR LATINO ORIGIN!!Total population!!White alone, not Hispanic or Latino',\n",
       " 'Margin of Error!!Mean income (dollars)!!PER CAPITA INCOME BY RACE AND HISPANIC OR LATINO ORIGIN!!Total population!!White alone, not Hispanic or Latino',\n",
       " 'Unnamed: 170']"
      ]
     },
     "execution_count": 26,
     "metadata": {},
     "output_type": "execute_result"
    }
   ],
   "source": [
    "# Show all column names\n",
    "column_names = acs_income_df.columns.tolist()\n",
    "column_names"
   ]
  },
  {
   "cell_type": "markdown",
   "id": "1a5f1957-3d81-412a-8949-eb7280982f09",
   "metadata": {},
   "source": [
    "For this project I dont necessarily care for demogrpahic information, I only care about income and affordabilty to determine potential growth. However, since the data is already filtered in that manner I can leave it and still get the insights needed for mean income. "
   ]
  },
  {
   "cell_type": "code",
   "execution_count": 103,
   "id": "cee363ca-80d1-469e-bf03-e503d52532ea",
   "metadata": {},
   "outputs": [],
   "source": [
    "# Select useful columns for summary\n",
    "per_capita_columns = {\n",
    "    \"Geographic Area Name\": \"State\",\n",
    "    \"Estimate!!Mean income (dollars)!!PER CAPITA INCOME BY RACE AND HISPANIC OR LATINO ORIGIN!!Total population!!One race--!!White\": \"White\",\n",
    "    \"Estimate!!Mean income (dollars)!!PER CAPITA INCOME BY RACE AND HISPANIC OR LATINO ORIGIN!!Total population!!One race--!!Black or African American\": \"Black or African American\",\n",
    "    \"Estimate!!Mean income (dollars)!!PER CAPITA INCOME BY RACE AND HISPANIC OR LATINO ORIGIN!!Total population!!One race--!!Asian\": \"Asian\",\n",
    "    \"Estimate!!Mean income (dollars)!!PER CAPITA INCOME BY RACE AND HISPANIC OR LATINO ORIGIN!!Total population!!Hispanic or Latino origin (of any race)\": \"Hispanic or Latino\"\n",
    "}"
   ]
  },
  {
   "cell_type": "code",
   "execution_count": 105,
   "id": "d32b2336-f825-48a9-9b69-69c46f6213b6",
   "metadata": {},
   "outputs": [],
   "source": [
    "# Extract and rename\n",
    "per_capita_summary = acs_income_df[list(per_capita_columns.keys())].rename(columns=per_capita_columns)"
   ]
  },
  {
   "cell_type": "code",
   "execution_count": 107,
   "id": "b1e40ca0-1a77-43a9-b507-1a9f3756667c",
   "metadata": {},
   "outputs": [
    {
     "data": {
      "text/html": [
       "<div>\n",
       "<style scoped>\n",
       "    .dataframe tbody tr th:only-of-type {\n",
       "        vertical-align: middle;\n",
       "    }\n",
       "\n",
       "    .dataframe tbody tr th {\n",
       "        vertical-align: top;\n",
       "    }\n",
       "\n",
       "    .dataframe thead th {\n",
       "        text-align: right;\n",
       "    }\n",
       "</style>\n",
       "<table border=\"1\" class=\"dataframe\">\n",
       "  <thead>\n",
       "    <tr style=\"text-align: right;\">\n",
       "      <th></th>\n",
       "      <th>State</th>\n",
       "      <th>White</th>\n",
       "      <th>Black or African American</th>\n",
       "      <th>Asian</th>\n",
       "      <th>Hispanic or Latino</th>\n",
       "    </tr>\n",
       "  </thead>\n",
       "  <tbody>\n",
       "    <tr>\n",
       "      <th>0</th>\n",
       "      <td>Michigan</td>\n",
       "      <td>42278</td>\n",
       "      <td>26960</td>\n",
       "      <td>46724</td>\n",
       "      <td>26886</td>\n",
       "    </tr>\n",
       "    <tr>\n",
       "      <th>1</th>\n",
       "      <td>Ohio</td>\n",
       "      <td>42487</td>\n",
       "      <td>27246</td>\n",
       "      <td>49763</td>\n",
       "      <td>25712</td>\n",
       "    </tr>\n",
       "    <tr>\n",
       "      <th>2</th>\n",
       "      <td>Pennsylvania</td>\n",
       "      <td>46838</td>\n",
       "      <td>29044</td>\n",
       "      <td>49048</td>\n",
       "      <td>24614</td>\n",
       "    </tr>\n",
       "  </tbody>\n",
       "</table>\n",
       "</div>"
      ],
      "text/plain": [
       "          State  White  Black or African American  Asian  Hispanic or Latino\n",
       "0      Michigan  42278                      26960  46724               26886\n",
       "1          Ohio  42487                      27246  49763               25712\n",
       "2  Pennsylvania  46838                      29044  49048               24614"
      ]
     },
     "execution_count": 107,
     "metadata": {},
     "output_type": "execute_result"
    }
   ],
   "source": [
    "# Convert to numeric and round for readability\n",
    "for col in per_capita_summary.columns[1:]:\n",
    "    per_capita_summary[col] = pd.to_numeric(per_capita_summary[col], errors=\"coerce\").round(0).astype(\"Int64\")\n",
    "\n",
    "per_capita_summary"
   ]
  },
  {
   "cell_type": "markdown",
   "id": "6dc42bb0-8df7-4984-9152-0b9593140fec",
   "metadata": {},
   "source": [
    "## Reviewing ACSST1Y2023.S1903"
   ]
  },
  {
   "cell_type": "markdown",
   "id": "a77405d1-85c5-479e-9787-a590e40c8313",
   "metadata": {},
   "source": [
    "### Median Income by State, Family vs Non-Family, and Race"
   ]
  },
  {
   "cell_type": "code",
   "execution_count": 52,
   "id": "a16def4c-f110-40e9-9a08-fe852b197ab6",
   "metadata": {},
   "outputs": [],
   "source": [
    "# Load the second ACS file\n",
    "acs_income_median_df = pd.read_csv(\"ACSST1Y2023.S1903-Data.csv\", skiprows=1)"
   ]
  },
  {
   "cell_type": "code",
   "execution_count": 79,
   "id": "68863c9e-bfa0-497d-9b0d-a0a3d8e770bc",
   "metadata": {},
   "outputs": [],
   "source": [
    "# Define corrected column names from the dataset\n",
    "corrected_columns = {\n",
    "    \"Geographic Area Name\": \"State\",\n",
    "    \"Estimate!!Median income (dollars)!!HOUSEHOLD INCOME BY RACE AND HISPANIC OR LATINO ORIGIN OF HOUSEHOLDER!!Households!!One race--!!White\": \"White\",\n",
    "    \"Estimate!!Median income (dollars)!!HOUSEHOLD INCOME BY RACE AND HISPANIC OR LATINO ORIGIN OF HOUSEHOLDER!!Households!!One race--!!Black or African American\": \"Black or African American\",\n",
    "    \"Estimate!!Median income (dollars)!!HOUSEHOLD INCOME BY RACE AND HISPANIC OR LATINO ORIGIN OF HOUSEHOLDER!!Households!!One race--!!Asian\": \"Asian\",\n",
    "    \"Estimate!!Median income (dollars)!!HOUSEHOLD INCOME BY RACE AND HISPANIC OR LATINO ORIGIN OF HOUSEHOLDER!!Households!!Hispanic or Latino origin (of any race)\": \"Hispanic or Latino\",\n",
    "    \"Estimate!!Median income (dollars)!!FAMILIES!!Families\": \"Family Households\",\n",
    "    \"Estimate!!Median income (dollars)!!NONFAMILY HOUSEHOLDS!!Nonfamily households\": \"Nonfamily Households\"\n",
    "}"
   ]
  },
  {
   "cell_type": "code",
   "execution_count": 85,
   "id": "2520479d-626b-4298-ae64-5ac55be174bb",
   "metadata": {},
   "outputs": [],
   "source": [
    "# Select and rename\n",
    "median_income_summary = acs_income_median_df[list(corrected_columns.keys())].rename(columns=corrected_columns)"
   ]
  },
  {
   "cell_type": "code",
   "execution_count": 87,
   "id": "825a9cb1-bbbf-42c1-99e4-798c500f351e",
   "metadata": {},
   "outputs": [
    {
     "data": {
      "text/html": [
       "<div>\n",
       "<style scoped>\n",
       "    .dataframe tbody tr th:only-of-type {\n",
       "        vertical-align: middle;\n",
       "    }\n",
       "\n",
       "    .dataframe tbody tr th {\n",
       "        vertical-align: top;\n",
       "    }\n",
       "\n",
       "    .dataframe thead th {\n",
       "        text-align: right;\n",
       "    }\n",
       "</style>\n",
       "<table border=\"1\" class=\"dataframe\">\n",
       "  <thead>\n",
       "    <tr style=\"text-align: right;\">\n",
       "      <th></th>\n",
       "      <th>State</th>\n",
       "      <th>White</th>\n",
       "      <th>Black or African American</th>\n",
       "      <th>Asian</th>\n",
       "      <th>Hispanic or Latino</th>\n",
       "      <th>Family Households</th>\n",
       "      <th>Nonfamily Households</th>\n",
       "    </tr>\n",
       "  </thead>\n",
       "  <tbody>\n",
       "    <tr>\n",
       "      <th>0</th>\n",
       "      <td>Michigan</td>\n",
       "      <td>73345</td>\n",
       "      <td>44632</td>\n",
       "      <td>99146</td>\n",
       "      <td>66479</td>\n",
       "      <td>88499</td>\n",
       "      <td>41497</td>\n",
       "    </tr>\n",
       "    <tr>\n",
       "      <th>1</th>\n",
       "      <td>Ohio</td>\n",
       "      <td>72690</td>\n",
       "      <td>43809</td>\n",
       "      <td>95221</td>\n",
       "      <td>55841</td>\n",
       "      <td>89221</td>\n",
       "      <td>41286</td>\n",
       "    </tr>\n",
       "    <tr>\n",
       "      <th>2</th>\n",
       "      <td>Pennsylvania</td>\n",
       "      <td>78815</td>\n",
       "      <td>47841</td>\n",
       "      <td>99052</td>\n",
       "      <td>57743</td>\n",
       "      <td>94367</td>\n",
       "      <td>43501</td>\n",
       "    </tr>\n",
       "  </tbody>\n",
       "</table>\n",
       "</div>"
      ],
      "text/plain": [
       "          State  White  Black or African American  Asian  Hispanic or Latino  \\\n",
       "0      Michigan  73345                      44632  99146               66479   \n",
       "1          Ohio  72690                      43809  95221               55841   \n",
       "2  Pennsylvania  78815                      47841  99052               57743   \n",
       "\n",
       "   Family Households  Nonfamily Households  \n",
       "0              88499                 41497  \n",
       "1              89221                 41286  \n",
       "2              94367                 43501  "
      ]
     },
     "execution_count": 87,
     "metadata": {},
     "output_type": "execute_result"
    }
   ],
   "source": [
    "# Convert to numeric and round\n",
    "for col in median_income_summary.columns[1:]:\n",
    "    median_income_summary[col] = pd.to_numeric(median_income_summary[col], errors=\"coerce\").round(0).astype(\"Int64\")\n",
    "\n",
    "median_income_summary"
   ]
  },
  {
   "cell_type": "code",
   "execution_count": 93,
   "id": "197f23cf-7e65-463d-9139-cb2a848c2062",
   "metadata": {},
   "outputs": [],
   "source": [
    "# Set basic styles\n",
    "plt.style.use(\"ggplot\")"
   ]
  },
  {
   "cell_type": "code",
   "execution_count": 95,
   "id": "32e3db0c-a20b-4373-93e8-e5dd147680d4",
   "metadata": {},
   "outputs": [],
   "source": [
    "# ---- 1. Median Income by Race ----\n",
    "race_cols = [\"White\", \"Black or African American\", \"Asian\", \"Hispanic or Latino\"]\n",
    "race_data = median_income_summary.set_index(\"State\")[race_cols].T"
   ]
  },
  {
   "cell_type": "code",
   "execution_count": 97,
   "id": "ad7da9a1-aba1-4157-82ad-761736f715ac",
   "metadata": {},
   "outputs": [
    {
     "data": {
      "image/png": "[encoded data removed]",
      "text/plain": [
       "<Figure size 1000x600 with 1 Axes>"
      ]
     },
     "metadata": {},
     "output_type": "display_data"
    }
   ],
   "source": [
    "# Plot\n",
    "race_data.plot(kind=\"bar\", figsize=(10, 6))\n",
    "plt.title(\"Median Income by Race (ACS 2023)\")\n",
    "plt.ylabel(\"Income ($)\")\n",
    "plt.xlabel(\"Race\")\n",
    "plt.legend(title=\"State\")\n",
    "plt.tight_layout()\n",
    "plt.show()"
   ]
  },
  {
   "cell_type": "code",
   "execution_count": 99,
   "id": "5f9b7a34-ad4a-4f5e-af80-069301c0249d",
   "metadata": {},
   "outputs": [],
   "source": [
    "# ---- 2. Median Income by Household Type ----\n",
    "hh_cols = [\"Family Households\", \"Nonfamily Households\"]\n",
    "hh_data = median_income_summary.set_index(\"State\")[hh_cols].T"
   ]
  },
  {
   "cell_type": "code",
   "execution_count": 101,
   "id": "03fc9442-ee8f-4d60-8ce2-5304028ace4f",
   "metadata": {},
   "outputs": [
    {
     "data": {
      "image/png": "[encoded data removed]",
      "text/plain": [
       "<Figure size 800x500 with 1 Axes>"
      ]
     },
     "metadata": {},
     "output_type": "display_data"
    }
   ],
   "source": [
    "# Plot\n",
    "hh_data.plot(kind=\"bar\", figsize=(8, 5))\n",
    "plt.title(\"Median Income by Household Type (ACS 2023)\")\n",
    "plt.ylabel(\"Income ($)\")\n",
    "plt.xlabel(\"Household Type\")\n",
    "plt.legend(title=\"State\")\n",
    "plt.tight_layout()\n",
    "plt.show()"
   ]
  },
  {
   "cell_type": "code",
   "execution_count": null,
   "id": "2501bb77-9431-42e3-8b25-22ca5f6ff962",
   "metadata": {},
   "outputs": [],
   "source": [
    "# ---- 3. Overall Median Income combined races ----"
   ]
  },
  {
   "cell_type": "code",
   "execution_count": 274,
   "id": "37ab13fe-fa39-4b4e-b02f-8d9595acc33f",
   "metadata": {},
   "outputs": [],
   "source": [
    "# Calculate average of race-specific median incomes per state\n",
    "combined_income = race_data.T.mean(axis=1).round(0)"
   ]
  },
  {
   "cell_type": "code",
   "execution_count": 276,
   "id": "94bf1a38-2425-4ecb-b7a9-eb2f9ceed6c3",
   "metadata": {},
   "outputs": [
    {
     "data": {
      "image/png": "[encoded data removed]",
      "text/plain": [
       "<Figure size 800x500 with 1 Axes>"
      ]
     },
     "metadata": {},
     "output_type": "display_data"
    }
   ],
   "source": [
    "# Create a bar chart of the combined median income\n",
    "plt.figure(figsize=(8, 5))\n",
    "sns.barplot(x=combined_income.index, y=combined_income.values, palette=\"muted\")\n",
    "plt.ylabel(\"Combined Median Household Income ($)\")\n",
    "plt.title(\"Combined Median Income by Race – ACS 2023 (State Level)\")\n",
    "plt.tight_layout()\n",
    "plt.show()"
   ]
  },
  {
   "cell_type": "markdown",
   "id": "74042a94-9547-4414-864a-04eecf4c1173",
   "metadata": {
    "jp-MarkdownHeadingCollapsed": true
   },
   "source": [
    "## Merging the two data frames for mean Per Capita review and median Household."
   ]
  },
  {
   "cell_type": "code",
   "execution_count": 114,
   "id": "4b9bb683-b6d4-4944-9561-650da0a1087e",
   "metadata": {},
   "outputs": [
    {
     "data": {
      "text/html": [
       "<div>\n",
       "<style scoped>\n",
       "    .dataframe tbody tr th:only-of-type {\n",
       "        vertical-align: middle;\n",
       "    }\n",
       "\n",
       "    .dataframe tbody tr th {\n",
       "        vertical-align: top;\n",
       "    }\n",
       "\n",
       "    .dataframe thead th {\n",
       "        text-align: right;\n",
       "    }\n",
       "</style>\n",
       "<table border=\"1\" class=\"dataframe\">\n",
       "  <thead>\n",
       "    <tr style=\"text-align: right;\">\n",
       "      <th></th>\n",
       "      <th>State</th>\n",
       "      <th>White_MeanPerCapita</th>\n",
       "      <th>Black or African American_MeanPerCapita</th>\n",
       "      <th>Asian_MeanPerCapita</th>\n",
       "      <th>Hispanic or Latino_MeanPerCapita</th>\n",
       "      <th>White_MedianHousehold</th>\n",
       "      <th>Black or African American_MedianHousehold</th>\n",
       "      <th>Asian_MedianHousehold</th>\n",
       "      <th>Hispanic or Latino_MedianHousehold</th>\n",
       "      <th>Family Households</th>\n",
       "      <th>Nonfamily Households</th>\n",
       "    </tr>\n",
       "  </thead>\n",
       "  <tbody>\n",
       "    <tr>\n",
       "      <th>0</th>\n",
       "      <td>Michigan</td>\n",
       "      <td>42278</td>\n",
       "      <td>26960</td>\n",
       "      <td>46724</td>\n",
       "      <td>26886</td>\n",
       "      <td>73345</td>\n",
       "      <td>44632</td>\n",
       "      <td>99146</td>\n",
       "      <td>66479</td>\n",
       "      <td>88499</td>\n",
       "      <td>41497</td>\n",
       "    </tr>\n",
       "    <tr>\n",
       "      <th>1</th>\n",
       "      <td>Ohio</td>\n",
       "      <td>42487</td>\n",
       "      <td>27246</td>\n",
       "      <td>49763</td>\n",
       "      <td>25712</td>\n",
       "      <td>72690</td>\n",
       "      <td>43809</td>\n",
       "      <td>95221</td>\n",
       "      <td>55841</td>\n",
       "      <td>89221</td>\n",
       "      <td>41286</td>\n",
       "    </tr>\n",
       "    <tr>\n",
       "      <th>2</th>\n",
       "      <td>Pennsylvania</td>\n",
       "      <td>46838</td>\n",
       "      <td>29044</td>\n",
       "      <td>49048</td>\n",
       "      <td>24614</td>\n",
       "      <td>78815</td>\n",
       "      <td>47841</td>\n",
       "      <td>99052</td>\n",
       "      <td>57743</td>\n",
       "      <td>94367</td>\n",
       "      <td>43501</td>\n",
       "    </tr>\n",
       "  </tbody>\n",
       "</table>\n",
       "</div>"
      ],
      "text/plain": [
       "          State  White_MeanPerCapita  Black or African American_MeanPerCapita  \\\n",
       "0      Michigan                42278                                    26960   \n",
       "1          Ohio                42487                                    27246   \n",
       "2  Pennsylvania                46838                                    29044   \n",
       "\n",
       "   Asian_MeanPerCapita  Hispanic or Latino_MeanPerCapita  \\\n",
       "0                46724                             26886   \n",
       "1                49763                             25712   \n",
       "2                49048                             24614   \n",
       "\n",
       "   White_MedianHousehold  Black or African American_MedianHousehold  \\\n",
       "0                  73345                                      44632   \n",
       "1                  72690                                      43809   \n",
       "2                  78815                                      47841   \n",
       "\n",
       "   Asian_MedianHousehold  Hispanic or Latino_MedianHousehold  \\\n",
       "0                  99146                               66479   \n",
       "1                  95221                               55841   \n",
       "2                  99052                               57743   \n",
       "\n",
       "   Family Households  Nonfamily Households  \n",
       "0              88499                 41497  \n",
       "1              89221                 41286  \n",
       "2              94367                 43501  "
      ]
     },
     "execution_count": 114,
     "metadata": {},
     "output_type": "execute_result"
    }
   ],
   "source": [
    "# Merge per capita mean and median household income summaries\n",
    "comparison_df = per_capita_summary.merge(median_income_summary, on=\"State\", suffixes=(\"_MeanPerCapita\", \"_MedianHousehold\"))\n",
    "\n",
    "comparison_df"
   ]
  },
  {
   "cell_type": "code",
   "execution_count": 116,
   "id": "f858c3f8-48eb-465d-98d8-dca533fd36b2",
   "metadata": {},
   "outputs": [],
   "source": [
    "# Prepare data in long format for easy plotting\n",
    "comparison_long = pd.melt(\n",
    "    comparison_df,\n",
    "    id_vars=\"State\",\n",
    "    var_name=\"Category\",\n",
    "    value_name=\"Income\"\n",
    ")"
   ]
  },
  {
   "cell_type": "code",
   "execution_count": 120,
   "id": "b690117f-8c9a-45f4-bdeb-3eac534a9f9a",
   "metadata": {},
   "outputs": [],
   "source": [
    "# Extract race and income type from column names\n",
    "comparison_long[\"Race\"] = comparison_long[\"Category\"].str.extract(r'^(.*?)_')\n",
    "comparison_long[\"Income Type\"] = comparison_long[\"Category\"].str.extract(r'_(MeanPerCapita|MedianHousehold)$')"
   ]
  },
  {
   "cell_type": "code",
   "execution_count": 122,
   "id": "6b39dece-4e07-46d3-92be-1cbce83f7eca",
   "metadata": {},
   "outputs": [
    {
     "data": {
      "text/plain": [
       "<Figure size 1200x600 with 0 Axes>"
      ]
     },
     "metadata": {},
     "output_type": "display_data"
    },
    {
     "data": {
      "image/png": "[encoded data removed]",
      "text/plain": [
       "<Figure size 1200x600 with 1 Axes>"
      ]
     },
     "metadata": {},
     "output_type": "display_data"
    },
    {
     "data": {
      "image/png": "[encoded data removed]",
      "text/plain": [
       "<Figure size 1200x600 with 1 Axes>"
      ]
     },
     "metadata": {},
     "output_type": "display_data"
    }
   ],
   "source": [
    "# Create grouped bar chart\n",
    "plt.figure(figsize=(12, 6))\n",
    "for income_type in [\"MeanPerCapita\", \"MedianHousehold\"]:\n",
    "    subset = comparison_long[comparison_long[\"Income Type\"] == income_type]\n",
    "    pivot = subset.pivot(index=\"Race\", columns=\"State\", values=\"Income\")\n",
    "    pivot.plot(kind=\"bar\", figsize=(12, 6), title=f\"{income_type.replace('MeanPerCapita', 'Per Capita (Mean)').replace('MedianHousehold', 'Household (Median)')} Income by Race\")\n",
    "    plt.ylabel(\"Income ($)\")\n",
    "    plt.xlabel(\"Race\")\n",
    "    plt.xticks(rotation=0)\n",
    "    plt.tight_layout()\n",
    "    plt.legend(title=\"State\")\n",
    "    plt.show()"
   ]
  },
  {
   "cell_type": "markdown",
   "id": "801fe3e6-6434-4e14-943e-ea80cb62c154",
   "metadata": {},
   "source": [
    "## Zillow Data Review"
   ]
  },
  {
   "cell_type": "code",
   "execution_count": 131,
   "id": "05b90e6d-3524-48e2-8e3f-d7f4acf04c16",
   "metadata": {},
   "outputs": [],
   "source": [
    "home_income_needed_df = pd.read_csv(\"Metro_new_homeowner_income_needed_downpayment_0.20_uc_sfrcondo_tier_0.33_0.67_sm_sa_month.csv\")\n",
    "home_price_df = pd.read_csv(\"Metro_zhvi_uc_sfr_tier_0.33_0.67_sm_sa_month.csv\")"
   ]
  },
  {
   "cell_type": "code",
   "execution_count": 133,
   "id": "4ecd3e8c-e9f9-4107-9401-814e0e59c086",
   "metadata": {},
   "outputs": [
    {
     "data": {
      "text/html": [
       "<div>\n",
       "<style scoped>\n",
       "    .dataframe tbody tr th:only-of-type {\n",
       "        vertical-align: middle;\n",
       "    }\n",
       "\n",
       "    .dataframe tbody tr th {\n",
       "        vertical-align: top;\n",
       "    }\n",
       "\n",
       "    .dataframe thead th {\n",
       "        text-align: right;\n",
       "    }\n",
       "</style>\n",
       "<table border=\"1\" class=\"dataframe\">\n",
       "  <thead>\n",
       "    <tr style=\"text-align: right;\">\n",
       "      <th></th>\n",
       "      <th>RegionID</th>\n",
       "      <th>SizeRank</th>\n",
       "      <th>RegionName</th>\n",
       "      <th>RegionType</th>\n",
       "      <th>StateName</th>\n",
       "      <th>2012-01-31</th>\n",
       "      <th>2012-02-29</th>\n",
       "      <th>2012-03-31</th>\n",
       "      <th>2012-04-30</th>\n",
       "      <th>2012-05-31</th>\n",
       "      <th>...</th>\n",
       "      <th>2024-07-31</th>\n",
       "      <th>2024-08-31</th>\n",
       "      <th>2024-09-30</th>\n",
       "      <th>2024-10-31</th>\n",
       "      <th>2024-11-30</th>\n",
       "      <th>2024-12-31</th>\n",
       "      <th>2025-01-31</th>\n",
       "      <th>2025-02-28</th>\n",
       "      <th>2025-03-31</th>\n",
       "      <th>2025-04-30</th>\n",
       "    </tr>\n",
       "  </thead>\n",
       "  <tbody>\n",
       "    <tr>\n",
       "      <th>0</th>\n",
       "      <td>102001</td>\n",
       "      <td>0</td>\n",
       "      <td>United States</td>\n",
       "      <td>country</td>\n",
       "      <td>NaN</td>\n",
       "      <td>37514.113879</td>\n",
       "      <td>37443.974034</td>\n",
       "      <td>37686.713888</td>\n",
       "      <td>37641.907614</td>\n",
       "      <td>37413.529554</td>\n",
       "      <td>...</td>\n",
       "      <td>98467.282352</td>\n",
       "      <td>95840.416918</td>\n",
       "      <td>93779.944878</td>\n",
       "      <td>95821.967036</td>\n",
       "      <td>98871.966533</td>\n",
       "      <td>98355.997911</td>\n",
       "      <td>100427.609199</td>\n",
       "      <td>99646.819920</td>\n",
       "      <td>98085.314196</td>\n",
       "      <td>98536.573449</td>\n",
       "    </tr>\n",
       "    <tr>\n",
       "      <th>1</th>\n",
       "      <td>394913</td>\n",
       "      <td>1</td>\n",
       "      <td>New York, NY</td>\n",
       "      <td>msa</td>\n",
       "      <td>NY</td>\n",
       "      <td>97688.491502</td>\n",
       "      <td>97306.167835</td>\n",
       "      <td>97747.730807</td>\n",
       "      <td>97577.626017</td>\n",
       "      <td>97018.512671</td>\n",
       "      <td>...</td>\n",
       "      <td>195278.286116</td>\n",
       "      <td>191301.601012</td>\n",
       "      <td>188134.118976</td>\n",
       "      <td>192670.409661</td>\n",
       "      <td>198977.491274</td>\n",
       "      <td>198151.970870</td>\n",
       "      <td>202075.365058</td>\n",
       "      <td>200727.353001</td>\n",
       "      <td>198356.800177</td>\n",
       "      <td>200152.110766</td>\n",
       "    </tr>\n",
       "    <tr>\n",
       "      <th>2</th>\n",
       "      <td>753899</td>\n",
       "      <td>2</td>\n",
       "      <td>Los Angeles, CA</td>\n",
       "      <td>msa</td>\n",
       "      <td>CA</td>\n",
       "      <td>77696.296562</td>\n",
       "      <td>77206.703066</td>\n",
       "      <td>77145.425659</td>\n",
       "      <td>76383.100485</td>\n",
       "      <td>75398.962398</td>\n",
       "      <td>...</td>\n",
       "      <td>246491.002381</td>\n",
       "      <td>240651.204866</td>\n",
       "      <td>235985.685410</td>\n",
       "      <td>242358.309633</td>\n",
       "      <td>251376.382859</td>\n",
       "      <td>250505.217406</td>\n",
       "      <td>255806.156630</td>\n",
       "      <td>252837.175670</td>\n",
       "      <td>247505.189098</td>\n",
       "      <td>247982.355686</td>\n",
       "    </tr>\n",
       "  </tbody>\n",
       "</table>\n",
       "<p>3 rows × 165 columns</p>\n",
       "</div>"
      ],
      "text/plain": [
       "   RegionID  SizeRank       RegionName RegionType StateName    2012-01-31  \\\n",
       "0    102001         0    United States    country       NaN  37514.113879   \n",
       "1    394913         1     New York, NY        msa        NY  97688.491502   \n",
       "2    753899         2  Los Angeles, CA        msa        CA  77696.296562   \n",
       "\n",
       "     2012-02-29    2012-03-31    2012-04-30    2012-05-31  ...     2024-07-31  \\\n",
       "0  37443.974034  37686.713888  37641.907614  37413.529554  ...   98467.282352   \n",
       "1  97306.167835  97747.730807  97577.626017  97018.512671  ...  195278.286116   \n",
       "2  77206.703066  77145.425659  76383.100485  75398.962398  ...  246491.002381   \n",
       "\n",
       "      2024-08-31     2024-09-30     2024-10-31     2024-11-30     2024-12-31  \\\n",
       "0   95840.416918   93779.944878   95821.967036   98871.966533   98355.997911   \n",
       "1  191301.601012  188134.118976  192670.409661  198977.491274  198151.970870   \n",
       "2  240651.204866  235985.685410  242358.309633  251376.382859  250505.217406   \n",
       "\n",
       "      2025-01-31     2025-02-28     2025-03-31     2025-04-30  \n",
       "0  100427.609199   99646.819920   98085.314196   98536.573449  \n",
       "1  202075.365058  200727.353001  198356.800177  200152.110766  \n",
       "2  255806.156630  252837.175670  247505.189098  247982.355686  \n",
       "\n",
       "[3 rows x 165 columns]"
      ]
     },
     "execution_count": 133,
     "metadata": {},
     "output_type": "execute_result"
    }
   ],
   "source": [
    "home_income_needed_df.head(3)"
   ]
  },
  {
   "cell_type": "code",
   "execution_count": 135,
   "id": "d86e8d1a-9bad-435d-b912-5f6db67e2104",
   "metadata": {},
   "outputs": [
    {
     "data": {
      "text/html": [
       "<div>\n",
       "<style scoped>\n",
       "    .dataframe tbody tr th:only-of-type {\n",
       "        vertical-align: middle;\n",
       "    }\n",
       "\n",
       "    .dataframe tbody tr th {\n",
       "        vertical-align: top;\n",
       "    }\n",
       "\n",
       "    .dataframe thead th {\n",
       "        text-align: right;\n",
       "    }\n",
       "</style>\n",
       "<table border=\"1\" class=\"dataframe\">\n",
       "  <thead>\n",
       "    <tr style=\"text-align: right;\">\n",
       "      <th></th>\n",
       "      <th>RegionID</th>\n",
       "      <th>SizeRank</th>\n",
       "      <th>RegionName</th>\n",
       "      <th>RegionType</th>\n",
       "      <th>StateName</th>\n",
       "      <th>2000-01-31</th>\n",
       "      <th>2000-02-29</th>\n",
       "      <th>2000-03-31</th>\n",
       "      <th>2000-04-30</th>\n",
       "      <th>2000-05-31</th>\n",
       "      <th>...</th>\n",
       "      <th>2024-07-31</th>\n",
       "      <th>2024-08-31</th>\n",
       "      <th>2024-09-30</th>\n",
       "      <th>2024-10-31</th>\n",
       "      <th>2024-11-30</th>\n",
       "      <th>2024-12-31</th>\n",
       "      <th>2025-01-31</th>\n",
       "      <th>2025-02-28</th>\n",
       "      <th>2025-03-31</th>\n",
       "      <th>2025-04-30</th>\n",
       "    </tr>\n",
       "  </thead>\n",
       "  <tbody>\n",
       "    <tr>\n",
       "      <th>0</th>\n",
       "      <td>102001</td>\n",
       "      <td>0</td>\n",
       "      <td>United States</td>\n",
       "      <td>country</td>\n",
       "      <td>NaN</td>\n",
       "      <td>124397.545153</td>\n",
       "      <td>124609.748900</td>\n",
       "      <td>124873.040706</td>\n",
       "      <td>125438.501055</td>\n",
       "      <td>126089.375728</td>\n",
       "      <td>...</td>\n",
       "      <td>3.656954e+05</td>\n",
       "      <td>3.659891e+05</td>\n",
       "      <td>3.664920e+05</td>\n",
       "      <td>3.671549e+05</td>\n",
       "      <td>3.677465e+05</td>\n",
       "      <td>3.685688e+05</td>\n",
       "      <td>3.692755e+05</td>\n",
       "      <td>3.697865e+05</td>\n",
       "      <td>3.695374e+05</td>\n",
       "      <td>3.690399e+05</td>\n",
       "    </tr>\n",
       "    <tr>\n",
       "      <th>1</th>\n",
       "      <td>394913</td>\n",
       "      <td>1</td>\n",
       "      <td>New York, NY</td>\n",
       "      <td>msa</td>\n",
       "      <td>NY</td>\n",
       "      <td>222850.137861</td>\n",
       "      <td>223792.044794</td>\n",
       "      <td>224739.262974</td>\n",
       "      <td>226655.041728</td>\n",
       "      <td>228628.825913</td>\n",
       "      <td>...</td>\n",
       "      <td>7.033239e+05</td>\n",
       "      <td>7.070718e+05</td>\n",
       "      <td>7.113336e+05</td>\n",
       "      <td>7.152540e+05</td>\n",
       "      <td>7.181908e+05</td>\n",
       "      <td>7.198386e+05</td>\n",
       "      <td>7.206852e+05</td>\n",
       "      <td>7.219450e+05</td>\n",
       "      <td>7.237650e+05</td>\n",
       "      <td>7.266368e+05</td>\n",
       "    </tr>\n",
       "    <tr>\n",
       "      <th>2</th>\n",
       "      <td>753899</td>\n",
       "      <td>2</td>\n",
       "      <td>Los Angeles, CA</td>\n",
       "      <td>msa</td>\n",
       "      <td>CA</td>\n",
       "      <td>240464.212781</td>\n",
       "      <td>241381.908412</td>\n",
       "      <td>242576.556368</td>\n",
       "      <td>244957.433686</td>\n",
       "      <td>247541.318983</td>\n",
       "      <td>...</td>\n",
       "      <td>1.026388e+06</td>\n",
       "      <td>1.032245e+06</td>\n",
       "      <td>1.039446e+06</td>\n",
       "      <td>1.045433e+06</td>\n",
       "      <td>1.050661e+06</td>\n",
       "      <td>1.055384e+06</td>\n",
       "      <td>1.056097e+06</td>\n",
       "      <td>1.053898e+06</td>\n",
       "      <td>1.048431e+06</td>\n",
       "      <td>1.043903e+06</td>\n",
       "    </tr>\n",
       "  </tbody>\n",
       "</table>\n",
       "<p>3 rows × 309 columns</p>\n",
       "</div>"
      ],
      "text/plain": [
       "   RegionID  SizeRank       RegionName RegionType StateName     2000-01-31  \\\n",
       "0    102001         0    United States    country       NaN  124397.545153   \n",
       "1    394913         1     New York, NY        msa        NY  222850.137861   \n",
       "2    753899         2  Los Angeles, CA        msa        CA  240464.212781   \n",
       "\n",
       "      2000-02-29     2000-03-31     2000-04-30     2000-05-31  ...  \\\n",
       "0  124609.748900  124873.040706  125438.501055  126089.375728  ...   \n",
       "1  223792.044794  224739.262974  226655.041728  228628.825913  ...   \n",
       "2  241381.908412  242576.556368  244957.433686  247541.318983  ...   \n",
       "\n",
       "     2024-07-31    2024-08-31    2024-09-30    2024-10-31    2024-11-30  \\\n",
       "0  3.656954e+05  3.659891e+05  3.664920e+05  3.671549e+05  3.677465e+05   \n",
       "1  7.033239e+05  7.070718e+05  7.113336e+05  7.152540e+05  7.181908e+05   \n",
       "2  1.026388e+06  1.032245e+06  1.039446e+06  1.045433e+06  1.050661e+06   \n",
       "\n",
       "     2024-12-31    2025-01-31    2025-02-28    2025-03-31    2025-04-30  \n",
       "0  3.685688e+05  3.692755e+05  3.697865e+05  3.695374e+05  3.690399e+05  \n",
       "1  7.198386e+05  7.206852e+05  7.219450e+05  7.237650e+05  7.266368e+05  \n",
       "2  1.055384e+06  1.056097e+06  1.053898e+06  1.048431e+06  1.043903e+06  \n",
       "\n",
       "[3 rows x 309 columns]"
      ]
     },
     "execution_count": 135,
     "metadata": {},
     "output_type": "execute_result"
    }
   ],
   "source": [
    "home_price_df.head(3)"
   ]
  },
  {
   "cell_type": "code",
   "execution_count": 161,
   "id": "a7980e26-181c-44e0-aff6-9a6a450d6449",
   "metadata": {},
   "outputs": [],
   "source": [
    "# Filter to only OH, PA, MI using both StateName and RegionName\n",
    "target_states = [\"OH\", \"PA\", \"MI\"]\n",
    "\n",
    "filtered_prices = home_price_df[\n",
    "    (home_price_df[\"StateName\"].isin(target_states)) &\n",
    "    (~home_price_df[\"RegionName\"].str.contains(\", WV\", case=False))\n",
    "].copy()\n",
    "\n",
    "filtered_income_needed = home_income_needed_df[\n",
    "    (home_income_needed_df[\"StateName\"].isin(target_states)) &\n",
    "    (~home_income_needed_df[\"RegionName\"].str.contains(\", WV\", case=False))\n",
    "].copy()"
   ]
  },
  {
   "cell_type": "code",
   "execution_count": 163,
   "id": "9fe0f78e-60b7-45bf-839f-cf9a5e096c12",
   "metadata": {},
   "outputs": [],
   "source": [
    "# Select April 2025 as the latest data point for comparison\n",
    "latest_month = \"2025-04-30\""
   ]
  },
  {
   "cell_type": "code",
   "execution_count": 165,
   "id": "00d063d3-5ca5-4a6c-96b7-9293200c52ec",
   "metadata": {},
   "outputs": [],
   "source": [
    "# Merge the two datasets on RegionName and StateName\n",
    "merged_city_data = pd.merge(\n",
    "    filtered_prices[[\"RegionName\", \"StateName\", latest_month]],\n",
    "    filtered_income_needed[[\"RegionName\", \"StateName\", latest_month]],\n",
    "    on=[\"RegionName\", \"StateName\"],\n",
    "    suffixes=(\"_HomePrice\", \"_IncomeNeeded\")\n",
    ")"
   ]
  },
  {
   "cell_type": "code",
   "execution_count": 167,
   "id": "6f8630d6-87ee-4b68-9500-fa0e9127dd8f",
   "metadata": {},
   "outputs": [],
   "source": [
    "# Calculate affordability ratio: income needed / home price\n",
    "merged_city_data[\"Affordability_Ratio\"] = merged_city_data[f\"{latest_month}_IncomeNeeded\"] / merged_city_data[f\"{latest_month}_HomePrice\"]"
   ]
  },
  {
   "cell_type": "markdown",
   "id": "a18f0502-6f55-4811-927b-9d91cdb302d3",
   "metadata": {},
   "source": [
    "The affordability ratio is the (Income Needed) ÷ (Home Price). "
   ]
  },
  {
   "cell_type": "code",
   "execution_count": 170,
   "id": "566097de-da1d-4380-89f9-61c4956bff8e",
   "metadata": {},
   "outputs": [],
   "source": [
    "# Clean up column names\n",
    "merged_city_data = merged_city_data.rename(columns={\n",
    "    f\"{latest_month}_HomePrice\": \"Home Price (Apr 2025)\",\n",
    "    f\"{latest_month}_IncomeNeeded\": \"Income Needed (Apr 2025)\"\n",
    "})"
   ]
  },
  {
   "cell_type": "code",
   "execution_count": 172,
   "id": "c24ec8b7-8b1e-4177-903c-6567d21dc6ba",
   "metadata": {},
   "outputs": [
    {
     "data": {
      "text/html": [
       "<div>\n",
       "<style scoped>\n",
       "    .dataframe tbody tr th:only-of-type {\n",
       "        vertical-align: middle;\n",
       "    }\n",
       "\n",
       "    .dataframe tbody tr th {\n",
       "        vertical-align: top;\n",
       "    }\n",
       "\n",
       "    .dataframe thead th {\n",
       "        text-align: right;\n",
       "    }\n",
       "</style>\n",
       "<table border=\"1\" class=\"dataframe\">\n",
       "  <thead>\n",
       "    <tr style=\"text-align: right;\">\n",
       "      <th></th>\n",
       "      <th>RegionName</th>\n",
       "      <th>StateName</th>\n",
       "      <th>Home Price (Apr 2025)</th>\n",
       "      <th>Income Needed (Apr 2025)</th>\n",
       "      <th>Affordability_Ratio</th>\n",
       "    </tr>\n",
       "  </thead>\n",
       "  <tbody>\n",
       "    <tr>\n",
       "      <th>4</th>\n",
       "      <td>Columbus, OH</td>\n",
       "      <td>OH</td>\n",
       "      <td>347889.377527</td>\n",
       "      <td>82998.772997</td>\n",
       "      <td>0.238578</td>\n",
       "    </tr>\n",
       "    <tr>\n",
       "      <th>3</th>\n",
       "      <td>Cincinnati, OH</td>\n",
       "      <td>OH</td>\n",
       "      <td>309531.241082</td>\n",
       "      <td>77460.110670</td>\n",
       "      <td>0.250250</td>\n",
       "    </tr>\n",
       "    <tr>\n",
       "      <th>30</th>\n",
       "      <td>Traverse City, MI</td>\n",
       "      <td>MI</td>\n",
       "      <td>418107.285705</td>\n",
       "      <td>104980.055278</td>\n",
       "      <td>0.251084</td>\n",
       "    </tr>\n",
       "    <tr>\n",
       "      <th>19</th>\n",
       "      <td>Ann Arbor, MI</td>\n",
       "      <td>MI</td>\n",
       "      <td>429978.803281</td>\n",
       "      <td>109974.413006</td>\n",
       "      <td>0.255767</td>\n",
       "    </tr>\n",
       "    <tr>\n",
       "      <th>6</th>\n",
       "      <td>Grand Rapids, MI</td>\n",
       "      <td>MI</td>\n",
       "      <td>348020.685134</td>\n",
       "      <td>91738.826321</td>\n",
       "      <td>0.263602</td>\n",
       "    </tr>\n",
       "    <tr>\n",
       "      <th>29</th>\n",
       "      <td>Monroe, MI</td>\n",
       "      <td>MI</td>\n",
       "      <td>255771.145104</td>\n",
       "      <td>69367.585711</td>\n",
       "      <td>0.271210</td>\n",
       "    </tr>\n",
       "    <tr>\n",
       "      <th>42</th>\n",
       "      <td>Bloomsburg, PA</td>\n",
       "      <td>PA</td>\n",
       "      <td>239302.264986</td>\n",
       "      <td>64904.368115</td>\n",
       "      <td>0.271223</td>\n",
       "    </tr>\n",
       "    <tr>\n",
       "      <th>26</th>\n",
       "      <td>State College, PA</td>\n",
       "      <td>PA</td>\n",
       "      <td>345259.184547</td>\n",
       "      <td>93678.421916</td>\n",
       "      <td>0.271328</td>\n",
       "    </tr>\n",
       "    <tr>\n",
       "      <th>28</th>\n",
       "      <td>Niles, MI</td>\n",
       "      <td>MI</td>\n",
       "      <td>260030.637961</td>\n",
       "      <td>71032.495628</td>\n",
       "      <td>0.273170</td>\n",
       "    </tr>\n",
       "    <tr>\n",
       "      <th>12</th>\n",
       "      <td>Lancaster, PA</td>\n",
       "      <td>PA</td>\n",
       "      <td>372644.035416</td>\n",
       "      <td>101812.418880</td>\n",
       "      <td>0.273216</td>\n",
       "    </tr>\n",
       "    <tr>\n",
       "      <th>0</th>\n",
       "      <td>Philadelphia, PA</td>\n",
       "      <td>PA</td>\n",
       "      <td>389130.027163</td>\n",
       "      <td>106533.980827</td>\n",
       "      <td>0.273775</td>\n",
       "    </tr>\n",
       "    <tr>\n",
       "      <th>23</th>\n",
       "      <td>Muskegon, MI</td>\n",
       "      <td>MI</td>\n",
       "      <td>233086.431599</td>\n",
       "      <td>64420.894726</td>\n",
       "      <td>0.276382</td>\n",
       "    </tr>\n",
       "    <tr>\n",
       "      <th>37</th>\n",
       "      <td>Williamsport, PA</td>\n",
       "      <td>PA</td>\n",
       "      <td>222977.501411</td>\n",
       "      <td>62256.731519</td>\n",
       "      <td>0.279206</td>\n",
       "    </tr>\n",
       "    <tr>\n",
       "      <th>36</th>\n",
       "      <td>Altoona, PA</td>\n",
       "      <td>PA</td>\n",
       "      <td>171676.600090</td>\n",
       "      <td>48037.684528</td>\n",
       "      <td>0.279815</td>\n",
       "    </tr>\n",
       "    <tr>\n",
       "      <th>41</th>\n",
       "      <td>Midland, MI</td>\n",
       "      <td>MI</td>\n",
       "      <td>240173.374263</td>\n",
       "      <td>67209.113700</td>\n",
       "      <td>0.279836</td>\n",
       "    </tr>\n",
       "    <tr>\n",
       "      <th>40</th>\n",
       "      <td>Lima, OH</td>\n",
       "      <td>OH</td>\n",
       "      <td>175749.726367</td>\n",
       "      <td>49323.015112</td>\n",
       "      <td>0.280643</td>\n",
       "    </tr>\n",
       "    <tr>\n",
       "      <th>1</th>\n",
       "      <td>Detroit, MI</td>\n",
       "      <td>MI</td>\n",
       "      <td>261836.751743</td>\n",
       "      <td>73558.893663</td>\n",
       "      <td>0.280934</td>\n",
       "    </tr>\n",
       "    <tr>\n",
       "      <th>39</th>\n",
       "      <td>Gettysburg, PA</td>\n",
       "      <td>PA</td>\n",
       "      <td>325474.334684</td>\n",
       "      <td>91509.511468</td>\n",
       "      <td>0.281157</td>\n",
       "    </tr>\n",
       "    <tr>\n",
       "      <th>31</th>\n",
       "      <td>Lebanon, PA</td>\n",
       "      <td>PA</td>\n",
       "      <td>301723.894921</td>\n",
       "      <td>85023.965303</td>\n",
       "      <td>0.281794</td>\n",
       "    </tr>\n",
       "    <tr>\n",
       "      <th>20</th>\n",
       "      <td>Erie, PA</td>\n",
       "      <td>PA</td>\n",
       "      <td>203904.870126</td>\n",
       "      <td>57484.472244</td>\n",
       "      <td>0.281918</td>\n",
       "    </tr>\n",
       "  </tbody>\n",
       "</table>\n",
       "</div>"
      ],
      "text/plain": [
       "           RegionName StateName  Home Price (Apr 2025)  \\\n",
       "4        Columbus, OH        OH          347889.377527   \n",
       "3      Cincinnati, OH        OH          309531.241082   \n",
       "30  Traverse City, MI        MI          418107.285705   \n",
       "19      Ann Arbor, MI        MI          429978.803281   \n",
       "6    Grand Rapids, MI        MI          348020.685134   \n",
       "29         Monroe, MI        MI          255771.145104   \n",
       "42     Bloomsburg, PA        PA          239302.264986   \n",
       "26  State College, PA        PA          345259.184547   \n",
       "28          Niles, MI        MI          260030.637961   \n",
       "12      Lancaster, PA        PA          372644.035416   \n",
       "0    Philadelphia, PA        PA          389130.027163   \n",
       "23       Muskegon, MI        MI          233086.431599   \n",
       "37   Williamsport, PA        PA          222977.501411   \n",
       "36        Altoona, PA        PA          171676.600090   \n",
       "41        Midland, MI        MI          240173.374263   \n",
       "40           Lima, OH        OH          175749.726367   \n",
       "1         Detroit, MI        MI          261836.751743   \n",
       "39     Gettysburg, PA        PA          325474.334684   \n",
       "31        Lebanon, PA        PA          301723.894921   \n",
       "20           Erie, PA        PA          203904.870126   \n",
       "\n",
       "    Income Needed (Apr 2025)  Affordability_Ratio  \n",
       "4               82998.772997             0.238578  \n",
       "3               77460.110670             0.250250  \n",
       "30             104980.055278             0.251084  \n",
       "19             109974.413006             0.255767  \n",
       "6               91738.826321             0.263602  \n",
       "29              69367.585711             0.271210  \n",
       "42              64904.368115             0.271223  \n",
       "26              93678.421916             0.271328  \n",
       "28              71032.495628             0.273170  \n",
       "12             101812.418880             0.273216  \n",
       "0              106533.980827             0.273775  \n",
       "23              64420.894726             0.276382  \n",
       "37              62256.731519             0.279206  \n",
       "36              48037.684528             0.279815  \n",
       "41              67209.113700             0.279836  \n",
       "40              49323.015112             0.280643  \n",
       "1               73558.893663             0.280934  \n",
       "39              91509.511468             0.281157  \n",
       "31              85023.965303             0.281794  \n",
       "20              57484.472244             0.281918  "
      ]
     },
     "execution_count": 172,
     "metadata": {},
     "output_type": "execute_result"
    }
   ],
   "source": [
    "# Sort and get top 10 most affordable metros (lowest ratio)\n",
    "top_affordable_cities = merged_city_data.sort_values(\"Affordability_Ratio\").head(20)\n",
    "top_affordable_cities"
   ]
  },
  {
   "cell_type": "code",
   "execution_count": 174,
   "id": "faae7e63-7a3e-4538-8744-9e9822935189",
   "metadata": {},
   "outputs": [],
   "source": [
    "# Sort by affordability and get top 10 again\n",
    "top20_affordable_cleaned = valid_city_data.sort_values(\"Affordability_Ratio\").head(20)"
   ]
  },
  {
   "cell_type": "code",
   "execution_count": 176,
   "id": "cb67ef63-9fa4-4453-8b89-357d23cd387a",
   "metadata": {},
   "outputs": [],
   "source": [
    "# Regenerate the chart\n",
    "sorted_cleaned = top20_affordable_cleaned.sort_values(\"Affordability_Ratio\")"
   ]
  },
  {
   "cell_type": "code",
   "execution_count": 178,
   "id": "154c6e43-8db5-4c3a-98b5-ae417c706694",
   "metadata": {},
   "outputs": [
    {
     "data": {
      "image/png": "[encoded data removed]",
      "text/plain": [
       "<Figure size 1000x600 with 1 Axes>"
      ]
     },
     "metadata": {},
     "output_type": "display_data"
    }
   ],
   "source": [
    "# Plotting\n",
    "plt.figure(figsize=(10, 6))\n",
    "plt.barh(sorted_cleaned[\"RegionName\"], sorted_cleaned[\"Affordability_Ratio\"], color=\"mediumslateblue\")\n",
    "plt.xlabel(\"Affordability Ratio (Income ÷ Home Price)\")\n",
    "plt.title(\"Top 20 Most Affordable Cities in OH, MI, PA (Cleaned, Apr 2025)\")\n",
    "plt.grid(axis=\"x\", linestyle=\"--\", alpha=0.6)\n",
    "plt.tight_layout()\n",
    "plt.show()"
   ]
  },
  {
   "cell_type": "markdown",
   "id": "36c25d65-e63c-42d8-a7fc-6d3c6d926641",
   "metadata": {},
   "source": [
    "## Logistic Regression Model "
   ]
  },
  {
   "cell_type": "markdown",
   "id": "d30204e2-0bce-4a31-b961-50709c243c97",
   "metadata": {},
   "source": [
    "### Preparing the data for the model"
   ]
  },
  {
   "cell_type": "code",
   "execution_count": 182,
   "id": "cb93d9e6-b336-4fc1-9ebb-55271452802d",
   "metadata": {},
   "outputs": [],
   "source": [
    "price_df = pd.read_csv(\"Metro_zhvi_uc_sfr_tier_0.33_0.67_sm_sa_month.csv\")\n",
    "income_df = pd.read_csv(\"Metro_new_homeowner_income_needed_downpayment_0.20_uc_sfrcondo_tier_0.33_0.67_sm_sa_month.csv\")"
   ]
  },
  {
   "cell_type": "code",
   "execution_count": 184,
   "id": "cb3fe405-c208-4284-9024-4696613d50da",
   "metadata": {},
   "outputs": [],
   "source": [
    "# Filter for target states and exclude any WV overlap\n",
    "target_states = [\"OH\", \"PA\", \"MI\"]\n",
    "price_df = price_df[(price_df[\"StateName\"].isin(target_states)) & (~price_df[\"RegionName\"].str.contains(\", WV\", case=False))]\n",
    "income_df = income_df[(income_df[\"StateName\"].isin(target_states)) & (~income_df[\"RegionName\"].str.contains(\", WV\", case=False))]"
   ]
  },
  {
   "cell_type": "code",
   "execution_count": 186,
   "id": "714c6494-00bb-486f-9dbe-781eb09eea19",
   "metadata": {},
   "outputs": [],
   "source": [
    "# Define the months to use as features\n",
    "feature_months = [\"2025-01-31\", \"2025-02-28\", \"2025-03-31\", \"2025-04-30\"]"
   ]
  },
  {
   "cell_type": "code",
   "execution_count": 188,
   "id": "8d749da6-706f-408f-8460-1e6cea589d3c",
   "metadata": {},
   "outputs": [],
   "source": [
    "# Subset and merge\n",
    "price_features = price_df[[\"RegionName\", \"StateName\"] + feature_months].copy()\n",
    "income_features = income_df[[\"RegionName\", \"StateName\"] + feature_months].copy()\n",
    "merged = pd.merge(price_features, income_features, on=[\"RegionName\", \"StateName\"], suffixes=(\"_price\", \"_income\"))"
   ]
  },
  {
   "cell_type": "code",
   "execution_count": 192,
   "id": "abecc446-e5c2-4cda-9c69-587adac397a9",
   "metadata": {},
   "outputs": [],
   "source": [
    "# Calculate affordability ratios for each month\n",
    "for month in feature_months:\n",
    "    merged[f\"afford_ratio_{month}\"] = merged[f\"{month}_income\"] / merged[f\"{month}_price\"]"
   ]
  },
  {
   "cell_type": "code",
   "execution_count": 194,
   "id": "9760cd23-f17a-482e-b5cd-b89cde7f4056",
   "metadata": {},
   "outputs": [],
   "source": [
    "# Define the classification target: was the city in the top 20 most affordable in April 2025?\n",
    "merged[\"target\"] = merged[f\"afford_ratio_2025-04-30\"].rank(ascending=True) <= 20\n",
    "merged[\"target\"] = merged[\"target\"].astype(int)"
   ]
  },
  {
   "cell_type": "code",
   "execution_count": 196,
   "id": "3c63cbfe-0745-4108-b3c4-dd4a3eb69b87",
   "metadata": {},
   "outputs": [],
   "source": [
    "# Features for training: ratios for Jan–Mar 2025\n",
    "X = merged[[f\"afford_ratio_{m}\" for m in [\"2025-01-31\", \"2025-02-28\", \"2025-03-31\"]]]\n",
    "y = merged[\"target\"]"
   ]
  },
  {
   "cell_type": "code",
   "execution_count": 198,
   "id": "0a2e65f3-f843-4fa9-80d3-aa376bce8cf7",
   "metadata": {},
   "outputs": [
    {
     "data": {
      "text/plain": [
       "(   afford_ratio_2025-01-31  afford_ratio_2025-02-28  afford_ratio_2025-03-31\n",
       " 0                 0.278635                 0.276217                 0.272243\n",
       " 1                 0.285923                 0.283398                 0.279326\n",
       " 2                 0.288744                 0.286333                 0.282329\n",
       " 3                 0.255157                 0.252707                 0.248744\n",
       " 4                 0.243253                 0.240901                 0.237079,\n",
       " target\n",
       " 0    24\n",
       " 1    20\n",
       " Name: count, dtype: int64)"
      ]
     },
     "execution_count": 198,
     "metadata": {},
     "output_type": "execute_result"
    }
   ],
   "source": [
    "X.head(), y.value_counts()"
   ]
  },
  {
   "cell_type": "markdown",
   "id": "ca7e13c1-341a-47d3-9215-de00b5867f6e",
   "metadata": {},
   "source": [
    "### Building the Model"
   ]
  },
  {
   "cell_type": "code",
   "execution_count": 201,
   "id": "e948a9ee-ccbe-4059-8507-81f6b5abf7ee",
   "metadata": {},
   "outputs": [],
   "source": [
    "from sklearn.linear_model import LogisticRegression\n",
    "from sklearn.model_selection import train_test_split\n",
    "from sklearn.metrics import classification_report, confusion_matrix"
   ]
  },
  {
   "cell_type": "code",
   "execution_count": 205,
   "id": "66b5ac0b-b330-4661-89eb-b3fce1db8057",
   "metadata": {},
   "outputs": [],
   "source": [
    "# Split into train/test\n",
    "X_train, X_test, y_train, y_test = train_test_split(X, y, test_size=0.2, random_state=42)"
   ]
  },
  {
   "cell_type": "code",
   "execution_count": 207,
   "id": "26085549-c3af-47d5-ba60-2ebaf8f34421",
   "metadata": {},
   "outputs": [
    {
     "data": {
      "text/html": [
       "<style>#sk-container-id-1 {color: black;background-color: white;}#sk-container-id-1 pre{padding: 0;}#sk-container-id-1 div.sk-toggleable {background-color: white;}#sk-container-id-1 label.sk-toggleable__label {cursor: pointer;display: block;width: 100%;margin-bottom: 0;padding: 0.3em;box-sizing: border-box;text-align: center;}#sk-container-id-1 label.sk-toggleable__label-arrow:before {content: \"▸\";float: left;margin-right: 0.25em;color: #696969;}#sk-container-id-1 label.sk-toggleable__label-arrow:hover:before {color: black;}#sk-container-id-1 div.sk-estimator:hover label.sk-toggleable__label-arrow:before {color: black;}#sk-container-id-1 div.sk-toggleable__content {max-height: 0;max-width: 0;overflow: hidden;text-align: left;background-color: #f0f8ff;}#sk-container-id-1 div.sk-toggleable__content pre {margin: 0.2em;color: black;border-radius: 0.25em;background-color: #f0f8ff;}#sk-container-id-1 input.sk-toggleable__control:checked~div.sk-toggleable__content {max-height: 200px;max-width: 100%;overflow: auto;}#sk-container-id-1 input.sk-toggleable__control:checked~label.sk-toggleable__label-arrow:before {content: \"▾\";}#sk-container-id-1 div.sk-estimator input.sk-toggleable__control:checked~label.sk-toggleable__label {background-color: #d4ebff;}#sk-container-id-1 div.sk-label input.sk-toggleable__control:checked~label.sk-toggleable__label {background-color: #d4ebff;}#sk-container-id-1 input.sk-hidden--visually {border: 0;clip: rect(1px 1px 1px 1px);clip: rect(1px, 1px, 1px, 1px);height: 1px;margin: -1px;overflow: hidden;padding: 0;position: absolute;width: 1px;}#sk-container-id-1 div.sk-estimator {font-family: monospace;background-color: #f0f8ff;border: 1px dotted black;border-radius: 0.25em;box-sizing: border-box;margin-bottom: 0.5em;}#sk-container-id-1 div.sk-estimator:hover {background-color: #d4ebff;}#sk-container-id-1 div.sk-parallel-item::after {content: \"\";width: 100%;border-bottom: 1px solid gray;flex-grow: 1;}#sk-container-id-1 div.sk-label:hover label.sk-toggleable__label {background-color: #d4ebff;}#sk-container-id-1 div.sk-serial::before {content: \"\";position: absolute;border-left: 1px solid gray;box-sizing: border-box;top: 0;bottom: 0;left: 50%;z-index: 0;}#sk-container-id-1 div.sk-serial {display: flex;flex-direction: column;align-items: center;background-color: white;padding-right: 0.2em;padding-left: 0.2em;position: relative;}#sk-container-id-1 div.sk-item {position: relative;z-index: 1;}#sk-container-id-1 div.sk-parallel {display: flex;align-items: stretch;justify-content: center;background-color: white;position: relative;}#sk-container-id-1 div.sk-item::before, #sk-container-id-1 div.sk-parallel-item::before {content: \"\";position: absolute;border-left: 1px solid gray;box-sizing: border-box;top: 0;bottom: 0;left: 50%;z-index: -1;}#sk-container-id-1 div.sk-parallel-item {display: flex;flex-direction: column;z-index: 1;position: relative;background-color: white;}#sk-container-id-1 div.sk-parallel-item:first-child::after {align-self: flex-end;width: 50%;}#sk-container-id-1 div.sk-parallel-item:last-child::after {align-self: flex-start;width: 50%;}#sk-container-id-1 div.sk-parallel-item:only-child::after {width: 0;}#sk-container-id-1 div.sk-dashed-wrapped {border: 1px dashed gray;margin: 0 0.4em 0.5em 0.4em;box-sizing: border-box;padding-bottom: 0.4em;background-color: white;}#sk-container-id-1 div.sk-label label {font-family: monospace;font-weight: bold;display: inline-block;line-height: 1.2em;}#sk-container-id-1 div.sk-label-container {text-align: center;}#sk-container-id-1 div.sk-container {/* jupyter's `normalize.less` sets `[hidden] { display: none; }` but bootstrap.min.css set `[hidden] { display: none !important; }` so we also need the `!important` here to be able to override the default hidden behavior on the sphinx rendered scikit-learn.org. See: https://github.com/scikit-learn/scikit-learn/issues/21755 */display: inline-block !important;position: relative;}#sk-container-id-1 div.sk-text-repr-fallback {display: none;}</style><div id=\"sk-container-id-1\" class=\"sk-top-container\"><div class=\"sk-text-repr-fallback\"><pre>LogisticRegression()</pre><b>In a Jupyter environment, please rerun this cell to show the HTML representation or trust the notebook. <br />On GitHub, the HTML representation is unable to render, please try loading this page with nbviewer.org.</b></div><div class=\"sk-container\" hidden><div class=\"sk-item\"><div class=\"sk-estimator sk-toggleable\"><input class=\"sk-toggleable__control sk-hidden--visually\" id=\"sk-estimator-id-1\" type=\"checkbox\" checked><label for=\"sk-estimator-id-1\" class=\"sk-toggleable__label sk-toggleable__label-arrow\">LogisticRegression</label><div class=\"sk-toggleable__content\"><pre>LogisticRegression()</pre></div></div></div></div></div>"
      ],
      "text/plain": [
       "LogisticRegression()"
      ]
     },
     "execution_count": 207,
     "metadata": {},
     "output_type": "execute_result"
    }
   ],
   "source": [
    "# Train logistic regression\n",
    "model = LogisticRegression()\n",
    "model.fit(X_train, y_train)"
   ]
  },
  {
   "cell_type": "code",
   "execution_count": 209,
   "id": "514b3ba5-9a82-4f29-ac5b-63638083bec4",
   "metadata": {},
   "outputs": [
    {
     "name": "stderr",
     "output_type": "stream",
     "text": [
      "C:\\Users\\rbrio\\anaconda3\\Lib\\site-packages\\sklearn\\metrics\\_classification.py:1344: UndefinedMetricWarning: Precision and F-score are ill-defined and being set to 0.0 in labels with no predicted samples. Use `zero_division` parameter to control this behavior.\n",
      "  _warn_prf(average, modifier, msg_start, len(result))\n",
      "C:\\Users\\rbrio\\anaconda3\\Lib\\site-packages\\sklearn\\metrics\\_classification.py:1344: UndefinedMetricWarning: Precision and F-score are ill-defined and being set to 0.0 in labels with no predicted samples. Use `zero_division` parameter to control this behavior.\n",
      "  _warn_prf(average, modifier, msg_start, len(result))\n",
      "C:\\Users\\rbrio\\anaconda3\\Lib\\site-packages\\sklearn\\metrics\\_classification.py:1344: UndefinedMetricWarning: Precision and F-score are ill-defined and being set to 0.0 in labels with no predicted samples. Use `zero_division` parameter to control this behavior.\n",
      "  _warn_prf(average, modifier, msg_start, len(result))\n"
     ]
    }
   ],
   "source": [
    "# Predict and evaluate\n",
    "y_pred = model.predict(X_test)\n",
    "report = classification_report(y_test, y_pred, output_dict=True)\n",
    "conf_matrix = confusion_matrix(y_test, y_pred)"
   ]
  },
  {
   "cell_type": "code",
   "execution_count": 211,
   "id": "64fa05e7-6994-48a6-84c5-9bb7e40bb176",
   "metadata": {},
   "outputs": [
    {
     "data": {
      "image/png": "[encoded data removed]",
      "text/plain": [
       "<Figure size 500x400 with 2 Axes>"
      ]
     },
     "metadata": {},
     "output_type": "display_data"
    }
   ],
   "source": [
    "# Plot confusion matrix\n",
    "plt.figure(figsize=(5, 4))\n",
    "sns.heatmap(conf_matrix, annot=True, fmt='d', cmap='Blues', xticklabels=[\"Not Top 20\", \"Top 20\"], yticklabels=[\"Not Top 20\", \"Top 20\"])\n",
    "plt.xlabel(\"Predicted\")\n",
    "plt.ylabel(\"Actual\")\n",
    "plt.title(\"Confusion Matrix - Logistic Regression\")\n",
    "plt.tight_layout()\n",
    "plt.show()"
   ]
  },
  {
   "cell_type": "code",
   "execution_count": 213,
   "id": "dd74c373-1ce8-4b37-9c81-ecaad039fbc2",
   "metadata": {},
   "outputs": [
    {
     "data": {
      "text/plain": [
       "{'0': {'precision': 0.4444444444444444,\n",
       "  'recall': 1.0,\n",
       "  'f1-score': 0.6153846153846153,\n",
       "  'support': 4},\n",
       " '1': {'precision': 0.0, 'recall': 0.0, 'f1-score': 0.0, 'support': 5},\n",
       " 'accuracy': 0.4444444444444444,\n",
       " 'macro avg': {'precision': 0.2222222222222222,\n",
       "  'recall': 0.5,\n",
       "  'f1-score': 0.30769230769230765,\n",
       "  'support': 9},\n",
       " 'weighted avg': {'precision': 0.19753086419753085,\n",
       "  'recall': 0.4444444444444444,\n",
       "  'f1-score': 0.2735042735042735,\n",
       "  'support': 9}}"
      ]
     },
     "execution_count": 213,
     "metadata": {},
     "output_type": "execute_result"
    }
   ],
   "source": [
    "report"
   ]
  },
  {
   "cell_type": "markdown",
   "id": "e0aa4143-97a1-4dcc-b08f-83735c6894cd",
   "metadata": {},
   "source": [
    "This model performed more poorly than I would have thought. With 5 actually in the top 20 and 4 not while predicting 0 and 0. "
   ]
  },
  {
   "cell_type": "markdown",
   "id": "27de6731-9449-4c7b-8b90-a2bbe1307e24",
   "metadata": {},
   "source": [
    "## Random Forest Model Build"
   ]
  },
  {
   "cell_type": "code",
   "execution_count": 217,
   "id": "0b2f2f22-4735-4154-ae15-40c2419b81be",
   "metadata": {},
   "outputs": [],
   "source": [
    "from sklearn.ensemble import RandomForestClassifier\n",
    "from sklearn.metrics import classification_report, confusion_matrix"
   ]
  },
  {
   "cell_type": "code",
   "execution_count": 219,
   "id": "1475d9e9-7ec2-4f6d-8680-4fcc4e1775df",
   "metadata": {},
   "outputs": [],
   "source": [
    "# Re-split the data\n",
    "from sklearn.model_selection import train_test_split\n",
    "X_train, X_test, y_train, y_test = train_test_split(X, y, test_size=0.2, random_state=42)"
   ]
  },
  {
   "cell_type": "code",
   "execution_count": 221,
   "id": "9a791f81-da8e-4158-b156-52b5ac9f0ee7",
   "metadata": {},
   "outputs": [
    {
     "data": {
      "text/html": [
       "<style>#sk-container-id-2 {color: black;background-color: white;}#sk-container-id-2 pre{padding: 0;}#sk-container-id-2 div.sk-toggleable {background-color: white;}#sk-container-id-2 label.sk-toggleable__label {cursor: pointer;display: block;width: 100%;margin-bottom: 0;padding: 0.3em;box-sizing: border-box;text-align: center;}#sk-container-id-2 label.sk-toggleable__label-arrow:before {content: \"▸\";float: left;margin-right: 0.25em;color: #696969;}#sk-container-id-2 label.sk-toggleable__label-arrow:hover:before {color: black;}#sk-container-id-2 div.sk-estimator:hover label.sk-toggleable__label-arrow:before {color: black;}#sk-container-id-2 div.sk-toggleable__content {max-height: 0;max-width: 0;overflow: hidden;text-align: left;background-color: #f0f8ff;}#sk-container-id-2 div.sk-toggleable__content pre {margin: 0.2em;color: black;border-radius: 0.25em;background-color: #f0f8ff;}#sk-container-id-2 input.sk-toggleable__control:checked~div.sk-toggleable__content {max-height: 200px;max-width: 100%;overflow: auto;}#sk-container-id-2 input.sk-toggleable__control:checked~label.sk-toggleable__label-arrow:before {content: \"▾\";}#sk-container-id-2 div.sk-estimator input.sk-toggleable__control:checked~label.sk-toggleable__label {background-color: #d4ebff;}#sk-container-id-2 div.sk-label input.sk-toggleable__control:checked~label.sk-toggleable__label {background-color: #d4ebff;}#sk-container-id-2 input.sk-hidden--visually {border: 0;clip: rect(1px 1px 1px 1px);clip: rect(1px, 1px, 1px, 1px);height: 1px;margin: -1px;overflow: hidden;padding: 0;position: absolute;width: 1px;}#sk-container-id-2 div.sk-estimator {font-family: monospace;background-color: #f0f8ff;border: 1px dotted black;border-radius: 0.25em;box-sizing: border-box;margin-bottom: 0.5em;}#sk-container-id-2 div.sk-estimator:hover {background-color: #d4ebff;}#sk-container-id-2 div.sk-parallel-item::after {content: \"\";width: 100%;border-bottom: 1px solid gray;flex-grow: 1;}#sk-container-id-2 div.sk-label:hover label.sk-toggleable__label {background-color: #d4ebff;}#sk-container-id-2 div.sk-serial::before {content: \"\";position: absolute;border-left: 1px solid gray;box-sizing: border-box;top: 0;bottom: 0;left: 50%;z-index: 0;}#sk-container-id-2 div.sk-serial {display: flex;flex-direction: column;align-items: center;background-color: white;padding-right: 0.2em;padding-left: 0.2em;position: relative;}#sk-container-id-2 div.sk-item {position: relative;z-index: 1;}#sk-container-id-2 div.sk-parallel {display: flex;align-items: stretch;justify-content: center;background-color: white;position: relative;}#sk-container-id-2 div.sk-item::before, #sk-container-id-2 div.sk-parallel-item::before {content: \"\";position: absolute;border-left: 1px solid gray;box-sizing: border-box;top: 0;bottom: 0;left: 50%;z-index: -1;}#sk-container-id-2 div.sk-parallel-item {display: flex;flex-direction: column;z-index: 1;position: relative;background-color: white;}#sk-container-id-2 div.sk-parallel-item:first-child::after {align-self: flex-end;width: 50%;}#sk-container-id-2 div.sk-parallel-item:last-child::after {align-self: flex-start;width: 50%;}#sk-container-id-2 div.sk-parallel-item:only-child::after {width: 0;}#sk-container-id-2 div.sk-dashed-wrapped {border: 1px dashed gray;margin: 0 0.4em 0.5em 0.4em;box-sizing: border-box;padding-bottom: 0.4em;background-color: white;}#sk-container-id-2 div.sk-label label {font-family: monospace;font-weight: bold;display: inline-block;line-height: 1.2em;}#sk-container-id-2 div.sk-label-container {text-align: center;}#sk-container-id-2 div.sk-container {/* jupyter's `normalize.less` sets `[hidden] { display: none; }` but bootstrap.min.css set `[hidden] { display: none !important; }` so we also need the `!important` here to be able to override the default hidden behavior on the sphinx rendered scikit-learn.org. See: https://github.com/scikit-learn/scikit-learn/issues/21755 */display: inline-block !important;position: relative;}#sk-container-id-2 div.sk-text-repr-fallback {display: none;}</style><div id=\"sk-container-id-2\" class=\"sk-top-container\"><div class=\"sk-text-repr-fallback\"><pre>RandomForestClassifier(random_state=42)</pre><b>In a Jupyter environment, please rerun this cell to show the HTML representation or trust the notebook. <br />On GitHub, the HTML representation is unable to render, please try loading this page with nbviewer.org.</b></div><div class=\"sk-container\" hidden><div class=\"sk-item\"><div class=\"sk-estimator sk-toggleable\"><input class=\"sk-toggleable__control sk-hidden--visually\" id=\"sk-estimator-id-2\" type=\"checkbox\" checked><label for=\"sk-estimator-id-2\" class=\"sk-toggleable__label sk-toggleable__label-arrow\">RandomForestClassifier</label><div class=\"sk-toggleable__content\"><pre>RandomForestClassifier(random_state=42)</pre></div></div></div></div></div>"
      ],
      "text/plain": [
       "RandomForestClassifier(random_state=42)"
      ]
     },
     "execution_count": 221,
     "metadata": {},
     "output_type": "execute_result"
    }
   ],
   "source": [
    "# Train the Random Forest model\n",
    "rf_model = RandomForestClassifier(n_estimators=100, random_state=42)\n",
    "rf_model.fit(X_train, y_train)"
   ]
  },
  {
   "cell_type": "code",
   "execution_count": 223,
   "id": "69beb296-9731-4e33-99d5-f0dbf4830fdd",
   "metadata": {},
   "outputs": [],
   "source": [
    "# Predict and evaluate\n",
    "y_pred_rf = rf_model.predict(X_test)\n",
    "rf_report = classification_report(y_test, y_pred_rf, output_dict=True)\n",
    "rf_conf_matrix = confusion_matrix(y_test, y_pred_rf)"
   ]
  },
  {
   "cell_type": "code",
   "execution_count": 251,
   "id": "787d51c0-39e5-4438-8955-890c6c8a93b3",
   "metadata": {},
   "outputs": [
    {
     "data": {
      "image/png": "[encoded data removed]",
      "text/plain": [
       "<Figure size 600x500 with 2 Axes>"
      ]
     },
     "metadata": {},
     "output_type": "display_data"
    }
   ],
   "source": [
    "fig, ax = plt.subplots(figsize=(6, 5))\n",
    "sns.heatmap(rf_conf_matrix, annot=True, fmt='d', cmap='Greens', square=True,\n",
    "            annot_kws={\"color\": \"black\"}, ax=ax)\n",
    "\n",
    "ax.set_title(\"Confusion Matrix - Random Forest\")\n",
    "ax.set_xlabel(\"Predicted\")\n",
    "ax.set_ylabel(\"Actual\")\n",
    "\n",
    "# Save after rendering\n",
    "plt.savefig(\"confusion_matrix_rf.png\", bbox_inches='tight')\n",
    "plt.show()"
   ]
  },
  {
   "cell_type": "code",
   "execution_count": 249,
   "id": "8df9d6ba-c290-40ba-b21b-93d616a2680c",
   "metadata": {},
   "outputs": [
    {
     "data": {
      "text/plain": [
       "<Figure size 640x480 with 0 Axes>"
      ]
     },
     "metadata": {},
     "output_type": "display_data"
    }
   ],
   "source": [
    "plt.savefig(\"confusion_matrix.png\", bbox_inches='tight')"
   ]
  },
  {
   "cell_type": "code",
   "execution_count": 227,
   "id": "0b59becc-53b2-48d4-9230-6cd66369e3ce",
   "metadata": {},
   "outputs": [
    {
     "data": {
      "text/plain": [
       "{'0': {'precision': 1.0,\n",
       "  'recall': 0.75,\n",
       "  'f1-score': 0.8571428571428571,\n",
       "  'support': 4},\n",
       " '1': {'precision': 0.8333333333333334,\n",
       "  'recall': 1.0,\n",
       "  'f1-score': 0.9090909090909091,\n",
       "  'support': 5},\n",
       " 'accuracy': 0.8888888888888888,\n",
       " 'macro avg': {'precision': 0.9166666666666667,\n",
       "  'recall': 0.875,\n",
       "  'f1-score': 0.8831168831168831,\n",
       "  'support': 9},\n",
       " 'weighted avg': {'precision': 0.9074074074074076,\n",
       "  'recall': 0.8888888888888888,\n",
       "  'f1-score': 0.886002886002886,\n",
       "  'support': 9}}"
      ]
     },
     "execution_count": 227,
     "metadata": {},
     "output_type": "execute_result"
    }
   ],
   "source": [
    "rf_report"
   ]
  },
  {
   "cell_type": "markdown",
   "id": "2cc13355-41be-4309-9f1d-a7845e1efe5d",
   "metadata": {},
   "source": [
    "## Random Forest Predictions"
   ]
  },
  {
   "cell_type": "code",
   "execution_count": 262,
   "id": "fc7fc356-febd-437b-a7b9-c123a48bdb52",
   "metadata": {},
   "outputs": [],
   "source": [
    "# Reconstruct X_future with Feb–Apr affordability ratios\n",
    "X_future = merged[[\n",
    "    \"afford_ratio_2025-02-28\",\n",
    "    \"afford_ratio_2025-03-31\",\n",
    "    \"afford_ratio_2025-04-30\"\n",
    "]].copy()"
   ]
  },
  {
   "cell_type": "code",
   "execution_count": 264,
   "id": "c9ac5ef1-41f1-4410-9700-c31df3d512c3",
   "metadata": {},
   "outputs": [],
   "source": [
    "# Rename columns to match what the model was trained on\n",
    "X_future.columns = [\"afford_ratio_2025-01-31\", \"afford_ratio_2025-02-28\", \"afford_ratio_2025-03-31\"]"
   ]
  },
  {
   "cell_type": "code",
   "execution_count": 266,
   "id": "25e7da97-9bc6-42e9-892d-7216bebb79b2",
   "metadata": {},
   "outputs": [],
   "source": [
    "# Predict using the trained Random Forest model\n",
    "predicted_top20_may = rf_model.predict(X_future)"
   ]
  },
  {
   "cell_type": "code",
   "execution_count": 268,
   "id": "f8c39dc6-814f-45cc-8a23-3308cb23c263",
   "metadata": {},
   "outputs": [],
   "source": [
    "# Attach predictions to city names\n",
    "results = merged[[\"RegionName\", \"StateName\"]].copy()\n",
    "results[\"Predicted_Top20_May2025\"] = predicted_top20_may"
   ]
  },
  {
   "cell_type": "code",
   "execution_count": 270,
   "id": "2400d876-e7f2-4704-83af-1f962f11bbf5",
   "metadata": {},
   "outputs": [],
   "source": [
    "# Filter only predicted Top 20\n",
    "top20_predicted_cities = results[results[\"Predicted_Top20_May2025\"] == 1].reset_index(drop=True)"
   ]
  },
  {
   "cell_type": "code",
   "execution_count": 272,
   "id": "39ff3ad4-5f3e-4aa5-954e-5023f4f2816f",
   "metadata": {},
   "outputs": [
    {
     "data": {
      "text/html": [
       "<div>\n",
       "<style scoped>\n",
       "    .dataframe tbody tr th:only-of-type {\n",
       "        vertical-align: middle;\n",
       "    }\n",
       "\n",
       "    .dataframe tbody tr th {\n",
       "        vertical-align: top;\n",
       "    }\n",
       "\n",
       "    .dataframe thead th {\n",
       "        text-align: right;\n",
       "    }\n",
       "</style>\n",
       "<table border=\"1\" class=\"dataframe\">\n",
       "  <thead>\n",
       "    <tr style=\"text-align: right;\">\n",
       "      <th></th>\n",
       "      <th>RegionName</th>\n",
       "      <th>StateName</th>\n",
       "      <th>Predicted_Top20_May2025</th>\n",
       "    </tr>\n",
       "  </thead>\n",
       "  <tbody>\n",
       "    <tr>\n",
       "      <th>0</th>\n",
       "      <td>Philadelphia, PA</td>\n",
       "      <td>PA</td>\n",
       "      <td>1</td>\n",
       "    </tr>\n",
       "    <tr>\n",
       "      <th>1</th>\n",
       "      <td>Detroit, MI</td>\n",
       "      <td>MI</td>\n",
       "      <td>1</td>\n",
       "    </tr>\n",
       "    <tr>\n",
       "      <th>2</th>\n",
       "      <td>Pittsburgh, PA</td>\n",
       "      <td>PA</td>\n",
       "      <td>1</td>\n",
       "    </tr>\n",
       "    <tr>\n",
       "      <th>3</th>\n",
       "      <td>Cincinnati, OH</td>\n",
       "      <td>OH</td>\n",
       "      <td>1</td>\n",
       "    </tr>\n",
       "    <tr>\n",
       "      <th>4</th>\n",
       "      <td>Columbus, OH</td>\n",
       "      <td>OH</td>\n",
       "      <td>1</td>\n",
       "    </tr>\n",
       "    <tr>\n",
       "      <th>5</th>\n",
       "      <td>Grand Rapids, MI</td>\n",
       "      <td>MI</td>\n",
       "      <td>1</td>\n",
       "    </tr>\n",
       "    <tr>\n",
       "      <th>6</th>\n",
       "      <td>Allentown, PA</td>\n",
       "      <td>PA</td>\n",
       "      <td>1</td>\n",
       "    </tr>\n",
       "    <tr>\n",
       "      <th>7</th>\n",
       "      <td>Lancaster, PA</td>\n",
       "      <td>PA</td>\n",
       "      <td>1</td>\n",
       "    </tr>\n",
       "    <tr>\n",
       "      <th>8</th>\n",
       "      <td>Reading, PA</td>\n",
       "      <td>PA</td>\n",
       "      <td>1</td>\n",
       "    </tr>\n",
       "    <tr>\n",
       "      <th>9</th>\n",
       "      <td>Ann Arbor, MI</td>\n",
       "      <td>MI</td>\n",
       "      <td>1</td>\n",
       "    </tr>\n",
       "    <tr>\n",
       "      <th>10</th>\n",
       "      <td>Erie, PA</td>\n",
       "      <td>PA</td>\n",
       "      <td>1</td>\n",
       "    </tr>\n",
       "    <tr>\n",
       "      <th>11</th>\n",
       "      <td>Kalamazoo, MI</td>\n",
       "      <td>MI</td>\n",
       "      <td>1</td>\n",
       "    </tr>\n",
       "    <tr>\n",
       "      <th>12</th>\n",
       "      <td>Muskegon, MI</td>\n",
       "      <td>MI</td>\n",
       "      <td>1</td>\n",
       "    </tr>\n",
       "    <tr>\n",
       "      <th>13</th>\n",
       "      <td>Jackson, MI</td>\n",
       "      <td>MI</td>\n",
       "      <td>1</td>\n",
       "    </tr>\n",
       "    <tr>\n",
       "      <th>14</th>\n",
       "      <td>State College, PA</td>\n",
       "      <td>PA</td>\n",
       "      <td>1</td>\n",
       "    </tr>\n",
       "    <tr>\n",
       "      <th>15</th>\n",
       "      <td>Niles, MI</td>\n",
       "      <td>MI</td>\n",
       "      <td>1</td>\n",
       "    </tr>\n",
       "    <tr>\n",
       "      <th>16</th>\n",
       "      <td>Monroe, MI</td>\n",
       "      <td>MI</td>\n",
       "      <td>1</td>\n",
       "    </tr>\n",
       "    <tr>\n",
       "      <th>17</th>\n",
       "      <td>Traverse City, MI</td>\n",
       "      <td>MI</td>\n",
       "      <td>1</td>\n",
       "    </tr>\n",
       "    <tr>\n",
       "      <th>18</th>\n",
       "      <td>Lebanon, PA</td>\n",
       "      <td>PA</td>\n",
       "      <td>1</td>\n",
       "    </tr>\n",
       "    <tr>\n",
       "      <th>19</th>\n",
       "      <td>Springfield, OH</td>\n",
       "      <td>OH</td>\n",
       "      <td>1</td>\n",
       "    </tr>\n",
       "    <tr>\n",
       "      <th>20</th>\n",
       "      <td>Battle Creek, MI</td>\n",
       "      <td>MI</td>\n",
       "      <td>1</td>\n",
       "    </tr>\n",
       "    <tr>\n",
       "      <th>21</th>\n",
       "      <td>Altoona, PA</td>\n",
       "      <td>PA</td>\n",
       "      <td>1</td>\n",
       "    </tr>\n",
       "    <tr>\n",
       "      <th>22</th>\n",
       "      <td>Williamsport, PA</td>\n",
       "      <td>PA</td>\n",
       "      <td>1</td>\n",
       "    </tr>\n",
       "    <tr>\n",
       "      <th>23</th>\n",
       "      <td>Gettysburg, PA</td>\n",
       "      <td>PA</td>\n",
       "      <td>1</td>\n",
       "    </tr>\n",
       "    <tr>\n",
       "      <th>24</th>\n",
       "      <td>Lima, OH</td>\n",
       "      <td>OH</td>\n",
       "      <td>1</td>\n",
       "    </tr>\n",
       "    <tr>\n",
       "      <th>25</th>\n",
       "      <td>Midland, MI</td>\n",
       "      <td>MI</td>\n",
       "      <td>1</td>\n",
       "    </tr>\n",
       "    <tr>\n",
       "      <th>26</th>\n",
       "      <td>Bloomsburg, PA</td>\n",
       "      <td>PA</td>\n",
       "      <td>1</td>\n",
       "    </tr>\n",
       "  </tbody>\n",
       "</table>\n",
       "</div>"
      ],
      "text/plain": [
       "           RegionName StateName  Predicted_Top20_May2025\n",
       "0    Philadelphia, PA        PA                        1\n",
       "1         Detroit, MI        MI                        1\n",
       "2      Pittsburgh, PA        PA                        1\n",
       "3      Cincinnati, OH        OH                        1\n",
       "4        Columbus, OH        OH                        1\n",
       "5    Grand Rapids, MI        MI                        1\n",
       "6       Allentown, PA        PA                        1\n",
       "7       Lancaster, PA        PA                        1\n",
       "8         Reading, PA        PA                        1\n",
       "9       Ann Arbor, MI        MI                        1\n",
       "10           Erie, PA        PA                        1\n",
       "11      Kalamazoo, MI        MI                        1\n",
       "12       Muskegon, MI        MI                        1\n",
       "13        Jackson, MI        MI                        1\n",
       "14  State College, PA        PA                        1\n",
       "15          Niles, MI        MI                        1\n",
       "16         Monroe, MI        MI                        1\n",
       "17  Traverse City, MI        MI                        1\n",
       "18        Lebanon, PA        PA                        1\n",
       "19    Springfield, OH        OH                        1\n",
       "20   Battle Creek, MI        MI                        1\n",
       "21        Altoona, PA        PA                        1\n",
       "22   Williamsport, PA        PA                        1\n",
       "23     Gettysburg, PA        PA                        1\n",
       "24           Lima, OH        OH                        1\n",
       "25        Midland, MI        MI                        1\n",
       "26     Bloomsburg, PA        PA                        1"
      ]
     },
     "execution_count": 272,
     "metadata": {},
     "output_type": "execute_result"
    }
   ],
   "source": [
    "top20_predicted_cities"
   ]
  }
 ],
 "metadata": {
  "kernelspec": {
   "display_name": "Python [conda env:base] *",
   "language": "python",
   "name": "conda-base-py"
  },
  "language_info": {
   "codemirror_mode": {
    "name": "ipython",
    "version": 3
   },
   "file_extension": ".py",
   "mimetype": "text/x-python",
   "name": "python",
   "nbconvert_exporter": "python",
   "pygments_lexer": "ipython3",
   "version": "3.11.7"
  }
 },
 "nbformat": 4,
 "nbformat_minor": 5
}
